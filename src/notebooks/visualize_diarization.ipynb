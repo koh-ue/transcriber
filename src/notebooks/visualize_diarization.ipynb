{
 "cells": [
  {
   "cell_type": "code",
   "execution_count": 135,
   "metadata": {},
   "outputs": [],
   "source": [
    "import yaml\n",
    "import numpy as np\n",
    "import pandas as pd\n",
    "import plotly.graph_objects as go\n",
    "from matplotlib.pyplot import get_cmap\n",
    "\n",
    "cmap=get_cmap(\"tab10\")"
   ]
  },
  {
   "cell_type": "code",
   "execution_count": 136,
   "metadata": {},
   "outputs": [],
   "source": [
    "with open(\"../../../results/20240131-test/diarization.yaml\", \"r\") as f:\n",
    "    diarization = yaml.safe_load(f)\n",
    "\n",
    "speakers = []\n",
    "for item in diarization:\n",
    "    speakers.append(item[\"speaker\"])"
   ]
  },
  {
   "cell_type": "code",
   "execution_count": 137,
   "metadata": {},
   "outputs": [],
   "source": [
    "with open(\"../../../results/20240131-test/result.yaml\", \"r\") as f:\n",
    "    conversation = yaml.safe_load(f)\n",
    "# conversation"
   ]
  },
  {
   "cell_type": "code",
   "execution_count": 168,
   "metadata": {},
   "outputs": [],
   "source": [
    "line_conv_x, line_conv_y, line_x, line_y = [], [], [], []\n",
    "num_speakers = len(set(speakers))\n",
    "for _ in range(num_speakers):\n",
    "    line_x.append([])\n",
    "    line_y.append([])"
   ]
  },
  {
   "cell_type": "code",
   "execution_count": 169,
   "metadata": {},
   "outputs": [],
   "source": [
    "_conv = []\n",
    "for segment in conversation[\"segments\"]:\n",
    "    _conv.append([\"Dialogue\", segment[\"start\"], segment[\"end\"]])\n",
    "    line_conv_x.extend([segment[\"start\"], segment[\"end\"], None])\n",
    "    line_conv_y.extend([\"Dialogue\", \"Dialogue\", None])\n",
    "df_conv = pd.DataFrame(_conv, columns=[\"Speaker\", \"Start\", \"End\"])\n",
    "# df_conv"
   ]
  },
  {
   "cell_type": "code",
   "execution_count": 171,
   "metadata": {},
   "outputs": [],
   "source": [
    "_diarization = []\n",
    "for _ in range(num_speakers):\n",
    "    _diarization.append([])\n",
    "    \n",
    "for item in diarization:\n",
    "    start = np.round(item[\"start\"], 1)\n",
    "    end   = np.round(item[\"end\"], 1)\n",
    "    label = item[\"speaker\"]\n",
    "    idx   =int(item[\"speaker\"].split(\"_\")[-1])\n",
    "    _diarization[idx].append([label, start, end])\n",
    "    line_x[idx].extend([start, end, None])\n",
    "    line_y[idx].extend([label, label, None])\n",
    "df_diars = [pd.DataFrame(_diarization[idx], columns=df_conv.columns) for idx in range(num_speakers)]\n",
    "# df_diar"
   ]
  },
  {
   "cell_type": "code",
   "execution_count": 200,
   "metadata": {},
   "outputs": [],
   "source": [
    "data = [go.Scatter(\n",
    "            x=line_x[idx],\n",
    "            y=line_y[idx],\n",
    "            mode=\"lines\",\n",
    "            name=f\"SP-{idx}\",\n",
    "            marker=dict(\n",
    "                color=cmap(idx/10)\n",
    "            )\n",
    "        ) for idx in range(num_speakers)]\n",
    "data.extend([\n",
    "    go.Scatter(\n",
    "        x=df_diars[idx][\"Start\"],\n",
    "        y=df_diars[idx][\"Speaker\"],\n",
    "        mode=\"markers\",\n",
    "        showlegend=False,\n",
    "        marker=dict(\n",
    "            color=\"black\",#cmap(idx/10),\n",
    "            size=5,\n",
    "            symbol=\"triangle-right\"\n",
    "        )\n",
    "    ) for idx in range(num_speakers)])\n",
    "\n",
    "data.extend([\n",
    "    go.Scatter(\n",
    "        x=df_diars[idx][\"End\"],\n",
    "        y=df_diars[idx][\"Speaker\"],\n",
    "        mode=\"markers\",\n",
    "        showlegend=False,\n",
    "        marker=dict(\n",
    "            color=\"black\",#cmap(idx/10),\n",
    "            size=5,\n",
    "            symbol=\"triangle-left\"\n",
    "        )\n",
    "    ) for idx in range(num_speakers)])\n",
    "data.extend([\n",
    "    go.Scatter(\n",
    "        x=line_conv_x,\n",
    "        y=line_conv_y,\n",
    "        mode=\"lines\",\n",
    "        name=\"dialogue\",\n",
    "        marker=dict(\n",
    "            color=\"grey\"\n",
    "        )\n",
    "    ),\n",
    "    go.Scatter(\n",
    "        x=df_conv[\"Start\"],\n",
    "        y=df_conv[\"Speaker\"],\n",
    "        mode=\"markers\",\n",
    "        showlegend=False,\n",
    "        marker=dict(\n",
    "            color=\"grey\",\n",
    "            size=5,\n",
    "            symbol=\"triangle-right\"\n",
    "        )\n",
    "    ),\n",
    "    go.Scatter(\n",
    "        x=df_conv[\"End\"],\n",
    "        y=df_conv[\"Speaker\"],\n",
    "        mode=\"markers\",\n",
    "        showlegend=False,\n",
    "        marker=dict(\n",
    "            color=\"grey\",\n",
    "            size=5,\n",
    "            symbol=\"triangle-left\"\n",
    "        )\n",
    "    )\n",
    "])"
   ]
  },
  {
   "cell_type": "code",
   "execution_count": 201,
   "metadata": {},
   "outputs": [],
   "source": [
    "fig = go.Figure(data=data)"
   ]
  },
  {
   "cell_type": "code",
   "execution_count": 203,
   "metadata": {},
   "outputs": [
    {
     "data": {
      "application/vnd.plotly.v1+json": {
       "config": {
        "plotlyServerURL": "https://plot.ly"
       },
       "data": [
        {
         "marker": {
          "color": [
           0.12156862745098039,
           0.4666666666666667,
           0.7058823529411765,
           1
          ]
         },
         "mode": "lines",
         "name": "SP-0",
         "type": "scatter",
         "x": [
          2.9,
          4.8,
          null,
          5.2,
          5.9,
          null,
          6.2,
          6.7,
          null,
          7.2,
          7.6,
          null,
          8.1,
          8.7,
          null,
          8.8,
          9.5,
          null,
          14.3,
          16.2,
          null,
          20,
          21.5,
          null,
          21.9,
          23.5,
          null,
          26.6,
          28,
          null,
          28.3,
          30,
          null,
          35.2,
          36.2,
          null,
          36.7,
          38.1,
          null,
          38.4,
          38.9,
          null,
          39.1,
          40.4,
          null,
          40.6,
          41.1,
          null,
          44.9,
          45.9,
          null,
          46.4,
          48.2,
          null,
          51.5,
          54.7,
          null,
          58.3,
          59.1,
          null,
          59.5,
          62.4,
          null,
          63.1,
          64.4,
          null,
          64.9,
          66.3,
          null,
          66.7,
          67.6,
          null,
          71.6,
          72.5,
          null,
          73.2,
          75.8,
          null,
          2.9,
          4.8,
          null,
          5.2,
          5.9,
          null,
          6.2,
          6.7,
          null,
          7.2,
          7.6,
          null,
          8.1,
          8.7,
          null,
          8.8,
          9.5,
          null,
          14.3,
          16.2,
          null,
          20,
          21.5,
          null,
          21.9,
          23.5,
          null,
          26.6,
          28,
          null,
          28.3,
          30,
          null,
          35.2,
          36.2,
          null,
          36.7,
          38.1,
          null,
          38.4,
          38.9,
          null,
          39.1,
          40.4,
          null,
          40.6,
          41.1,
          null,
          44.9,
          45.9,
          null,
          46.4,
          48.2,
          null,
          51.5,
          54.7,
          null,
          58.3,
          59.1,
          null,
          59.5,
          62.4,
          null,
          63.1,
          64.4,
          null,
          64.9,
          66.3,
          null,
          66.7,
          67.6,
          null,
          71.6,
          72.5,
          null,
          73.2,
          75.8,
          null
         ],
         "y": [
          "SPEAKER_00",
          "SPEAKER_00",
          null,
          "SPEAKER_00",
          "SPEAKER_00",
          null,
          "SPEAKER_00",
          "SPEAKER_00",
          null,
          "SPEAKER_00",
          "SPEAKER_00",
          null,
          "SPEAKER_00",
          "SPEAKER_00",
          null,
          "SPEAKER_00",
          "SPEAKER_00",
          null,
          "SPEAKER_00",
          "SPEAKER_00",
          null,
          "SPEAKER_00",
          "SPEAKER_00",
          null,
          "SPEAKER_00",
          "SPEAKER_00",
          null,
          "SPEAKER_00",
          "SPEAKER_00",
          null,
          "SPEAKER_00",
          "SPEAKER_00",
          null,
          "SPEAKER_00",
          "SPEAKER_00",
          null,
          "SPEAKER_00",
          "SPEAKER_00",
          null,
          "SPEAKER_00",
          "SPEAKER_00",
          null,
          "SPEAKER_00",
          "SPEAKER_00",
          null,
          "SPEAKER_00",
          "SPEAKER_00",
          null,
          "SPEAKER_00",
          "SPEAKER_00",
          null,
          "SPEAKER_00",
          "SPEAKER_00",
          null,
          "SPEAKER_00",
          "SPEAKER_00",
          null,
          "SPEAKER_00",
          "SPEAKER_00",
          null,
          "SPEAKER_00",
          "SPEAKER_00",
          null,
          "SPEAKER_00",
          "SPEAKER_00",
          null,
          "SPEAKER_00",
          "SPEAKER_00",
          null,
          "SPEAKER_00",
          "SPEAKER_00",
          null,
          "SPEAKER_00",
          "SPEAKER_00",
          null,
          "SPEAKER_00",
          "SPEAKER_00",
          null,
          "SPEAKER_00",
          "SPEAKER_00",
          null,
          "SPEAKER_00",
          "SPEAKER_00",
          null,
          "SPEAKER_00",
          "SPEAKER_00",
          null,
          "SPEAKER_00",
          "SPEAKER_00",
          null,
          "SPEAKER_00",
          "SPEAKER_00",
          null,
          "SPEAKER_00",
          "SPEAKER_00",
          null,
          "SPEAKER_00",
          "SPEAKER_00",
          null,
          "SPEAKER_00",
          "SPEAKER_00",
          null,
          "SPEAKER_00",
          "SPEAKER_00",
          null,
          "SPEAKER_00",
          "SPEAKER_00",
          null,
          "SPEAKER_00",
          "SPEAKER_00",
          null,
          "SPEAKER_00",
          "SPEAKER_00",
          null,
          "SPEAKER_00",
          "SPEAKER_00",
          null,
          "SPEAKER_00",
          "SPEAKER_00",
          null,
          "SPEAKER_00",
          "SPEAKER_00",
          null,
          "SPEAKER_00",
          "SPEAKER_00",
          null,
          "SPEAKER_00",
          "SPEAKER_00",
          null,
          "SPEAKER_00",
          "SPEAKER_00",
          null,
          "SPEAKER_00",
          "SPEAKER_00",
          null,
          "SPEAKER_00",
          "SPEAKER_00",
          null,
          "SPEAKER_00",
          "SPEAKER_00",
          null,
          "SPEAKER_00",
          "SPEAKER_00",
          null,
          "SPEAKER_00",
          "SPEAKER_00",
          null,
          "SPEAKER_00",
          "SPEAKER_00",
          null,
          "SPEAKER_00",
          "SPEAKER_00",
          null,
          "SPEAKER_00",
          "SPEAKER_00",
          null
         ]
        },
        {
         "marker": {
          "color": [
           1,
           0.4980392156862745,
           0.054901960784313725,
           1
          ]
         },
         "mode": "lines",
         "name": "SP-1",
         "type": "scatter",
         "x": [
          0.3,
          2.2,
          null,
          10.9,
          13.4,
          null,
          17.6,
          18.8,
          null,
          24.5,
          25.7,
          null,
          31,
          32.3,
          null,
          32.9,
          34.2,
          null,
          42.2,
          44.6,
          null,
          49,
          50.6,
          null,
          55.6,
          57.4,
          null,
          63,
          63.1,
          null,
          68.6,
          70.7,
          null,
          0.3,
          2.2,
          null,
          10.9,
          13.4,
          null,
          17.6,
          18.8,
          null,
          24.5,
          25.7,
          null,
          31,
          32.3,
          null,
          32.9,
          34.2,
          null,
          42.2,
          44.6,
          null,
          49,
          50.6,
          null,
          55.6,
          57.4,
          null,
          63,
          63.1,
          null,
          68.6,
          70.7,
          null
         ],
         "y": [
          "SPEAKER_01",
          "SPEAKER_01",
          null,
          "SPEAKER_01",
          "SPEAKER_01",
          null,
          "SPEAKER_01",
          "SPEAKER_01",
          null,
          "SPEAKER_01",
          "SPEAKER_01",
          null,
          "SPEAKER_01",
          "SPEAKER_01",
          null,
          "SPEAKER_01",
          "SPEAKER_01",
          null,
          "SPEAKER_01",
          "SPEAKER_01",
          null,
          "SPEAKER_01",
          "SPEAKER_01",
          null,
          "SPEAKER_01",
          "SPEAKER_01",
          null,
          "SPEAKER_01",
          "SPEAKER_01",
          null,
          "SPEAKER_01",
          "SPEAKER_01",
          null,
          "SPEAKER_01",
          "SPEAKER_01",
          null,
          "SPEAKER_01",
          "SPEAKER_01",
          null,
          "SPEAKER_01",
          "SPEAKER_01",
          null,
          "SPEAKER_01",
          "SPEAKER_01",
          null,
          "SPEAKER_01",
          "SPEAKER_01",
          null,
          "SPEAKER_01",
          "SPEAKER_01",
          null,
          "SPEAKER_01",
          "SPEAKER_01",
          null,
          "SPEAKER_01",
          "SPEAKER_01",
          null,
          "SPEAKER_01",
          "SPEAKER_01",
          null,
          "SPEAKER_01",
          "SPEAKER_01",
          null,
          "SPEAKER_01",
          "SPEAKER_01",
          null
         ]
        },
        {
         "marker": {
          "color": "black",
          "size": 5,
          "symbol": "triangle-right"
         },
         "mode": "markers",
         "showlegend": false,
         "type": "scatter",
         "x": [
          2.9,
          5.2,
          6.2,
          7.2,
          8.1,
          8.8,
          14.3,
          20,
          21.9,
          26.6,
          28.3,
          35.2,
          36.7,
          38.4,
          39.1,
          40.6,
          44.9,
          46.4,
          51.5,
          58.3,
          59.5,
          63.1,
          64.9,
          66.7,
          71.6,
          73.2
         ],
         "y": [
          "SPEAKER_00",
          "SPEAKER_00",
          "SPEAKER_00",
          "SPEAKER_00",
          "SPEAKER_00",
          "SPEAKER_00",
          "SPEAKER_00",
          "SPEAKER_00",
          "SPEAKER_00",
          "SPEAKER_00",
          "SPEAKER_00",
          "SPEAKER_00",
          "SPEAKER_00",
          "SPEAKER_00",
          "SPEAKER_00",
          "SPEAKER_00",
          "SPEAKER_00",
          "SPEAKER_00",
          "SPEAKER_00",
          "SPEAKER_00",
          "SPEAKER_00",
          "SPEAKER_00",
          "SPEAKER_00",
          "SPEAKER_00",
          "SPEAKER_00",
          "SPEAKER_00"
         ]
        },
        {
         "marker": {
          "color": "black",
          "size": 5,
          "symbol": "triangle-right"
         },
         "mode": "markers",
         "showlegend": false,
         "type": "scatter",
         "x": [
          0.3,
          10.9,
          17.6,
          24.5,
          31,
          32.9,
          42.2,
          49,
          55.6,
          63,
          68.6
         ],
         "y": [
          "SPEAKER_01",
          "SPEAKER_01",
          "SPEAKER_01",
          "SPEAKER_01",
          "SPEAKER_01",
          "SPEAKER_01",
          "SPEAKER_01",
          "SPEAKER_01",
          "SPEAKER_01",
          "SPEAKER_01",
          "SPEAKER_01"
         ]
        },
        {
         "marker": {
          "color": "black",
          "size": 5,
          "symbol": "triangle-left"
         },
         "mode": "markers",
         "showlegend": false,
         "type": "scatter",
         "x": [
          4.8,
          5.9,
          6.7,
          7.6,
          8.7,
          9.5,
          16.2,
          21.5,
          23.5,
          28,
          30,
          36.2,
          38.1,
          38.9,
          40.4,
          41.1,
          45.9,
          48.2,
          54.7,
          59.1,
          62.4,
          64.4,
          66.3,
          67.6,
          72.5,
          75.8
         ],
         "y": [
          "SPEAKER_00",
          "SPEAKER_00",
          "SPEAKER_00",
          "SPEAKER_00",
          "SPEAKER_00",
          "SPEAKER_00",
          "SPEAKER_00",
          "SPEAKER_00",
          "SPEAKER_00",
          "SPEAKER_00",
          "SPEAKER_00",
          "SPEAKER_00",
          "SPEAKER_00",
          "SPEAKER_00",
          "SPEAKER_00",
          "SPEAKER_00",
          "SPEAKER_00",
          "SPEAKER_00",
          "SPEAKER_00",
          "SPEAKER_00",
          "SPEAKER_00",
          "SPEAKER_00",
          "SPEAKER_00",
          "SPEAKER_00",
          "SPEAKER_00",
          "SPEAKER_00"
         ]
        },
        {
         "marker": {
          "color": "black",
          "size": 5,
          "symbol": "triangle-left"
         },
         "mode": "markers",
         "showlegend": false,
         "type": "scatter",
         "x": [
          2.2,
          13.4,
          18.8,
          25.7,
          32.3,
          34.2,
          44.6,
          50.6,
          57.4,
          63.1,
          70.7
         ],
         "y": [
          "SPEAKER_01",
          "SPEAKER_01",
          "SPEAKER_01",
          "SPEAKER_01",
          "SPEAKER_01",
          "SPEAKER_01",
          "SPEAKER_01",
          "SPEAKER_01",
          "SPEAKER_01",
          "SPEAKER_01",
          "SPEAKER_01"
         ]
        },
        {
         "marker": {
          "color": "grey"
         },
         "mode": "lines",
         "name": "dialogue",
         "type": "scatter",
         "x": [
          0,
          2.58,
          null,
          2.58,
          5,
          null,
          5,
          10.540000000000001,
          null,
          10.540000000000001,
          14,
          null,
          14,
          17.3,
          null,
          17.3,
          19.7,
          null,
          19.7,
          21.7,
          null,
          21.7,
          24.3,
          null,
          24.3,
          26.3,
          null,
          26.3,
          28.2,
          null,
          28.3,
          30.8,
          null,
          30.8,
          32.8,
          null,
          32.8,
          35,
          null,
          35,
          36.6,
          null,
          36.6,
          42.1,
          null,
          42.1,
          44.8,
          null,
          44.8,
          46.3,
          null,
          46.3,
          48.9,
          null,
          48.9,
          51.4,
          null,
          51.4,
          55.5,
          null,
          55.6,
          58.3,
          null,
          58.3,
          59.4,
          null,
          59.4,
          62.9,
          null,
          62.9,
          64.9,
          null,
          64.9,
          65.8,
          null,
          65.8,
          66.7,
          null,
          66.7,
          68.5,
          null,
          68.5,
          71.5,
          null,
          71.5,
          73.1,
          null,
          73.1,
          75.9,
          null
         ],
         "y": [
          "Dialogue",
          "Dialogue",
          null,
          "Dialogue",
          "Dialogue",
          null,
          "Dialogue",
          "Dialogue",
          null,
          "Dialogue",
          "Dialogue",
          null,
          "Dialogue",
          "Dialogue",
          null,
          "Dialogue",
          "Dialogue",
          null,
          "Dialogue",
          "Dialogue",
          null,
          "Dialogue",
          "Dialogue",
          null,
          "Dialogue",
          "Dialogue",
          null,
          "Dialogue",
          "Dialogue",
          null,
          "Dialogue",
          "Dialogue",
          null,
          "Dialogue",
          "Dialogue",
          null,
          "Dialogue",
          "Dialogue",
          null,
          "Dialogue",
          "Dialogue",
          null,
          "Dialogue",
          "Dialogue",
          null,
          "Dialogue",
          "Dialogue",
          null,
          "Dialogue",
          "Dialogue",
          null,
          "Dialogue",
          "Dialogue",
          null,
          "Dialogue",
          "Dialogue",
          null,
          "Dialogue",
          "Dialogue",
          null,
          "Dialogue",
          "Dialogue",
          null,
          "Dialogue",
          "Dialogue",
          null,
          "Dialogue",
          "Dialogue",
          null,
          "Dialogue",
          "Dialogue",
          null,
          "Dialogue",
          "Dialogue",
          null,
          "Dialogue",
          "Dialogue",
          null,
          "Dialogue",
          "Dialogue",
          null,
          "Dialogue",
          "Dialogue",
          null,
          "Dialogue",
          "Dialogue",
          null,
          "Dialogue",
          "Dialogue",
          null
         ]
        },
        {
         "marker": {
          "color": "grey",
          "size": 5,
          "symbol": "triangle-right"
         },
         "mode": "markers",
         "showlegend": false,
         "type": "scatter",
         "x": [
          0,
          2.58,
          5,
          10.540000000000001,
          14,
          17.3,
          19.7,
          21.7,
          24.3,
          26.3,
          28.3,
          30.8,
          32.8,
          35,
          36.6,
          42.1,
          44.8,
          46.3,
          48.9,
          51.4,
          55.6,
          58.3,
          59.4,
          62.9,
          64.9,
          65.8,
          66.7,
          68.5,
          71.5,
          73.1
         ],
         "y": [
          "Dialogue",
          "Dialogue",
          "Dialogue",
          "Dialogue",
          "Dialogue",
          "Dialogue",
          "Dialogue",
          "Dialogue",
          "Dialogue",
          "Dialogue",
          "Dialogue",
          "Dialogue",
          "Dialogue",
          "Dialogue",
          "Dialogue",
          "Dialogue",
          "Dialogue",
          "Dialogue",
          "Dialogue",
          "Dialogue",
          "Dialogue",
          "Dialogue",
          "Dialogue",
          "Dialogue",
          "Dialogue",
          "Dialogue",
          "Dialogue",
          "Dialogue",
          "Dialogue",
          "Dialogue"
         ]
        },
        {
         "marker": {
          "color": "grey",
          "size": 5,
          "symbol": "triangle-left"
         },
         "mode": "markers",
         "showlegend": false,
         "type": "scatter",
         "x": [
          2.58,
          5,
          10.540000000000001,
          14,
          17.3,
          19.7,
          21.7,
          24.3,
          26.3,
          28.2,
          30.8,
          32.8,
          35,
          36.6,
          42.1,
          44.8,
          46.3,
          48.9,
          51.4,
          55.5,
          58.3,
          59.4,
          62.9,
          64.9,
          65.8,
          66.7,
          68.5,
          71.5,
          73.1,
          75.9
         ],
         "y": [
          "Dialogue",
          "Dialogue",
          "Dialogue",
          "Dialogue",
          "Dialogue",
          "Dialogue",
          "Dialogue",
          "Dialogue",
          "Dialogue",
          "Dialogue",
          "Dialogue",
          "Dialogue",
          "Dialogue",
          "Dialogue",
          "Dialogue",
          "Dialogue",
          "Dialogue",
          "Dialogue",
          "Dialogue",
          "Dialogue",
          "Dialogue",
          "Dialogue",
          "Dialogue",
          "Dialogue",
          "Dialogue",
          "Dialogue",
          "Dialogue",
          "Dialogue",
          "Dialogue",
          "Dialogue"
         ]
        }
       ],
       "layout": {
        "height": 300,
        "legend": {
         "itemclick": false
        },
        "template": {
         "data": {
          "bar": [
           {
            "error_x": {
             "color": "#2a3f5f"
            },
            "error_y": {
             "color": "#2a3f5f"
            },
            "marker": {
             "line": {
              "color": "#E5ECF6",
              "width": 0.5
             },
             "pattern": {
              "fillmode": "overlay",
              "size": 10,
              "solidity": 0.2
             }
            },
            "type": "bar"
           }
          ],
          "barpolar": [
           {
            "marker": {
             "line": {
              "color": "#E5ECF6",
              "width": 0.5
             },
             "pattern": {
              "fillmode": "overlay",
              "size": 10,
              "solidity": 0.2
             }
            },
            "type": "barpolar"
           }
          ],
          "carpet": [
           {
            "aaxis": {
             "endlinecolor": "#2a3f5f",
             "gridcolor": "white",
             "linecolor": "white",
             "minorgridcolor": "white",
             "startlinecolor": "#2a3f5f"
            },
            "baxis": {
             "endlinecolor": "#2a3f5f",
             "gridcolor": "white",
             "linecolor": "white",
             "minorgridcolor": "white",
             "startlinecolor": "#2a3f5f"
            },
            "type": "carpet"
           }
          ],
          "choropleth": [
           {
            "colorbar": {
             "outlinewidth": 0,
             "ticks": ""
            },
            "type": "choropleth"
           }
          ],
          "contour": [
           {
            "colorbar": {
             "outlinewidth": 0,
             "ticks": ""
            },
            "colorscale": [
             [
              0,
              "#0d0887"
             ],
             [
              0.1111111111111111,
              "#46039f"
             ],
             [
              0.2222222222222222,
              "#7201a8"
             ],
             [
              0.3333333333333333,
              "#9c179e"
             ],
             [
              0.4444444444444444,
              "#bd3786"
             ],
             [
              0.5555555555555556,
              "#d8576b"
             ],
             [
              0.6666666666666666,
              "#ed7953"
             ],
             [
              0.7777777777777778,
              "#fb9f3a"
             ],
             [
              0.8888888888888888,
              "#fdca26"
             ],
             [
              1,
              "#f0f921"
             ]
            ],
            "type": "contour"
           }
          ],
          "contourcarpet": [
           {
            "colorbar": {
             "outlinewidth": 0,
             "ticks": ""
            },
            "type": "contourcarpet"
           }
          ],
          "heatmap": [
           {
            "colorbar": {
             "outlinewidth": 0,
             "ticks": ""
            },
            "colorscale": [
             [
              0,
              "#0d0887"
             ],
             [
              0.1111111111111111,
              "#46039f"
             ],
             [
              0.2222222222222222,
              "#7201a8"
             ],
             [
              0.3333333333333333,
              "#9c179e"
             ],
             [
              0.4444444444444444,
              "#bd3786"
             ],
             [
              0.5555555555555556,
              "#d8576b"
             ],
             [
              0.6666666666666666,
              "#ed7953"
             ],
             [
              0.7777777777777778,
              "#fb9f3a"
             ],
             [
              0.8888888888888888,
              "#fdca26"
             ],
             [
              1,
              "#f0f921"
             ]
            ],
            "type": "heatmap"
           }
          ],
          "heatmapgl": [
           {
            "colorbar": {
             "outlinewidth": 0,
             "ticks": ""
            },
            "colorscale": [
             [
              0,
              "#0d0887"
             ],
             [
              0.1111111111111111,
              "#46039f"
             ],
             [
              0.2222222222222222,
              "#7201a8"
             ],
             [
              0.3333333333333333,
              "#9c179e"
             ],
             [
              0.4444444444444444,
              "#bd3786"
             ],
             [
              0.5555555555555556,
              "#d8576b"
             ],
             [
              0.6666666666666666,
              "#ed7953"
             ],
             [
              0.7777777777777778,
              "#fb9f3a"
             ],
             [
              0.8888888888888888,
              "#fdca26"
             ],
             [
              1,
              "#f0f921"
             ]
            ],
            "type": "heatmapgl"
           }
          ],
          "histogram": [
           {
            "marker": {
             "pattern": {
              "fillmode": "overlay",
              "size": 10,
              "solidity": 0.2
             }
            },
            "type": "histogram"
           }
          ],
          "histogram2d": [
           {
            "colorbar": {
             "outlinewidth": 0,
             "ticks": ""
            },
            "colorscale": [
             [
              0,
              "#0d0887"
             ],
             [
              0.1111111111111111,
              "#46039f"
             ],
             [
              0.2222222222222222,
              "#7201a8"
             ],
             [
              0.3333333333333333,
              "#9c179e"
             ],
             [
              0.4444444444444444,
              "#bd3786"
             ],
             [
              0.5555555555555556,
              "#d8576b"
             ],
             [
              0.6666666666666666,
              "#ed7953"
             ],
             [
              0.7777777777777778,
              "#fb9f3a"
             ],
             [
              0.8888888888888888,
              "#fdca26"
             ],
             [
              1,
              "#f0f921"
             ]
            ],
            "type": "histogram2d"
           }
          ],
          "histogram2dcontour": [
           {
            "colorbar": {
             "outlinewidth": 0,
             "ticks": ""
            },
            "colorscale": [
             [
              0,
              "#0d0887"
             ],
             [
              0.1111111111111111,
              "#46039f"
             ],
             [
              0.2222222222222222,
              "#7201a8"
             ],
             [
              0.3333333333333333,
              "#9c179e"
             ],
             [
              0.4444444444444444,
              "#bd3786"
             ],
             [
              0.5555555555555556,
              "#d8576b"
             ],
             [
              0.6666666666666666,
              "#ed7953"
             ],
             [
              0.7777777777777778,
              "#fb9f3a"
             ],
             [
              0.8888888888888888,
              "#fdca26"
             ],
             [
              1,
              "#f0f921"
             ]
            ],
            "type": "histogram2dcontour"
           }
          ],
          "mesh3d": [
           {
            "colorbar": {
             "outlinewidth": 0,
             "ticks": ""
            },
            "type": "mesh3d"
           }
          ],
          "parcoords": [
           {
            "line": {
             "colorbar": {
              "outlinewidth": 0,
              "ticks": ""
             }
            },
            "type": "parcoords"
           }
          ],
          "pie": [
           {
            "automargin": true,
            "type": "pie"
           }
          ],
          "scatter": [
           {
            "fillpattern": {
             "fillmode": "overlay",
             "size": 10,
             "solidity": 0.2
            },
            "type": "scatter"
           }
          ],
          "scatter3d": [
           {
            "line": {
             "colorbar": {
              "outlinewidth": 0,
              "ticks": ""
             }
            },
            "marker": {
             "colorbar": {
              "outlinewidth": 0,
              "ticks": ""
             }
            },
            "type": "scatter3d"
           }
          ],
          "scattercarpet": [
           {
            "marker": {
             "colorbar": {
              "outlinewidth": 0,
              "ticks": ""
             }
            },
            "type": "scattercarpet"
           }
          ],
          "scattergeo": [
           {
            "marker": {
             "colorbar": {
              "outlinewidth": 0,
              "ticks": ""
             }
            },
            "type": "scattergeo"
           }
          ],
          "scattergl": [
           {
            "marker": {
             "colorbar": {
              "outlinewidth": 0,
              "ticks": ""
             }
            },
            "type": "scattergl"
           }
          ],
          "scattermapbox": [
           {
            "marker": {
             "colorbar": {
              "outlinewidth": 0,
              "ticks": ""
             }
            },
            "type": "scattermapbox"
           }
          ],
          "scatterpolar": [
           {
            "marker": {
             "colorbar": {
              "outlinewidth": 0,
              "ticks": ""
             }
            },
            "type": "scatterpolar"
           }
          ],
          "scatterpolargl": [
           {
            "marker": {
             "colorbar": {
              "outlinewidth": 0,
              "ticks": ""
             }
            },
            "type": "scatterpolargl"
           }
          ],
          "scatterternary": [
           {
            "marker": {
             "colorbar": {
              "outlinewidth": 0,
              "ticks": ""
             }
            },
            "type": "scatterternary"
           }
          ],
          "surface": [
           {
            "colorbar": {
             "outlinewidth": 0,
             "ticks": ""
            },
            "colorscale": [
             [
              0,
              "#0d0887"
             ],
             [
              0.1111111111111111,
              "#46039f"
             ],
             [
              0.2222222222222222,
              "#7201a8"
             ],
             [
              0.3333333333333333,
              "#9c179e"
             ],
             [
              0.4444444444444444,
              "#bd3786"
             ],
             [
              0.5555555555555556,
              "#d8576b"
             ],
             [
              0.6666666666666666,
              "#ed7953"
             ],
             [
              0.7777777777777778,
              "#fb9f3a"
             ],
             [
              0.8888888888888888,
              "#fdca26"
             ],
             [
              1,
              "#f0f921"
             ]
            ],
            "type": "surface"
           }
          ],
          "table": [
           {
            "cells": {
             "fill": {
              "color": "#EBF0F8"
             },
             "line": {
              "color": "white"
             }
            },
            "header": {
             "fill": {
              "color": "#C8D4E3"
             },
             "line": {
              "color": "white"
             }
            },
            "type": "table"
           }
          ]
         },
         "layout": {
          "annotationdefaults": {
           "arrowcolor": "#2a3f5f",
           "arrowhead": 0,
           "arrowwidth": 1
          },
          "autotypenumbers": "strict",
          "coloraxis": {
           "colorbar": {
            "outlinewidth": 0,
            "ticks": ""
           }
          },
          "colorscale": {
           "diverging": [
            [
             0,
             "#8e0152"
            ],
            [
             0.1,
             "#c51b7d"
            ],
            [
             0.2,
             "#de77ae"
            ],
            [
             0.3,
             "#f1b6da"
            ],
            [
             0.4,
             "#fde0ef"
            ],
            [
             0.5,
             "#f7f7f7"
            ],
            [
             0.6,
             "#e6f5d0"
            ],
            [
             0.7,
             "#b8e186"
            ],
            [
             0.8,
             "#7fbc41"
            ],
            [
             0.9,
             "#4d9221"
            ],
            [
             1,
             "#276419"
            ]
           ],
           "sequential": [
            [
             0,
             "#0d0887"
            ],
            [
             0.1111111111111111,
             "#46039f"
            ],
            [
             0.2222222222222222,
             "#7201a8"
            ],
            [
             0.3333333333333333,
             "#9c179e"
            ],
            [
             0.4444444444444444,
             "#bd3786"
            ],
            [
             0.5555555555555556,
             "#d8576b"
            ],
            [
             0.6666666666666666,
             "#ed7953"
            ],
            [
             0.7777777777777778,
             "#fb9f3a"
            ],
            [
             0.8888888888888888,
             "#fdca26"
            ],
            [
             1,
             "#f0f921"
            ]
           ],
           "sequentialminus": [
            [
             0,
             "#0d0887"
            ],
            [
             0.1111111111111111,
             "#46039f"
            ],
            [
             0.2222222222222222,
             "#7201a8"
            ],
            [
             0.3333333333333333,
             "#9c179e"
            ],
            [
             0.4444444444444444,
             "#bd3786"
            ],
            [
             0.5555555555555556,
             "#d8576b"
            ],
            [
             0.6666666666666666,
             "#ed7953"
            ],
            [
             0.7777777777777778,
             "#fb9f3a"
            ],
            [
             0.8888888888888888,
             "#fdca26"
            ],
            [
             1,
             "#f0f921"
            ]
           ]
          },
          "colorway": [
           "#636efa",
           "#EF553B",
           "#00cc96",
           "#ab63fa",
           "#FFA15A",
           "#19d3f3",
           "#FF6692",
           "#B6E880",
           "#FF97FF",
           "#FECB52"
          ],
          "font": {
           "color": "#2a3f5f"
          },
          "geo": {
           "bgcolor": "white",
           "lakecolor": "white",
           "landcolor": "#E5ECF6",
           "showlakes": true,
           "showland": true,
           "subunitcolor": "white"
          },
          "hoverlabel": {
           "align": "left"
          },
          "hovermode": "closest",
          "mapbox": {
           "style": "light"
          },
          "paper_bgcolor": "white",
          "plot_bgcolor": "#E5ECF6",
          "polar": {
           "angularaxis": {
            "gridcolor": "white",
            "linecolor": "white",
            "ticks": ""
           },
           "bgcolor": "#E5ECF6",
           "radialaxis": {
            "gridcolor": "white",
            "linecolor": "white",
            "ticks": ""
           }
          },
          "scene": {
           "xaxis": {
            "backgroundcolor": "#E5ECF6",
            "gridcolor": "white",
            "gridwidth": 2,
            "linecolor": "white",
            "showbackground": true,
            "ticks": "",
            "zerolinecolor": "white"
           },
           "yaxis": {
            "backgroundcolor": "#E5ECF6",
            "gridcolor": "white",
            "gridwidth": 2,
            "linecolor": "white",
            "showbackground": true,
            "ticks": "",
            "zerolinecolor": "white"
           },
           "zaxis": {
            "backgroundcolor": "#E5ECF6",
            "gridcolor": "white",
            "gridwidth": 2,
            "linecolor": "white",
            "showbackground": true,
            "ticks": "",
            "zerolinecolor": "white"
           }
          },
          "shapedefaults": {
           "line": {
            "color": "#2a3f5f"
           }
          },
          "ternary": {
           "aaxis": {
            "gridcolor": "white",
            "linecolor": "white",
            "ticks": ""
           },
           "baxis": {
            "gridcolor": "white",
            "linecolor": "white",
            "ticks": ""
           },
           "bgcolor": "#E5ECF6",
           "caxis": {
            "gridcolor": "white",
            "linecolor": "white",
            "ticks": ""
           }
          },
          "title": {
           "x": 0.05
          },
          "xaxis": {
           "automargin": true,
           "gridcolor": "white",
           "linecolor": "white",
           "ticks": "",
           "title": {
            "standoff": 15
           },
           "zerolinecolor": "white",
           "zerolinewidth": 2
          },
          "yaxis": {
           "automargin": true,
           "gridcolor": "white",
           "linecolor": "white",
           "ticks": "",
           "title": {
            "standoff": 15
           },
           "zerolinecolor": "white",
           "zerolinewidth": 2
          }
         }
        },
        "title": {
         "text": "Dialogue"
        }
       }
      }
     },
     "metadata": {},
     "output_type": "display_data"
    }
   ],
   "source": [
    "fig.update_layout(\n",
    "    title=\"Dialogue\",\n",
    "    height=300,\n",
    "    legend_itemclick=False\n",
    ")\n",
    "\n",
    "fig.show()"
   ]
  },
  {
   "cell_type": "code",
   "execution_count": null,
   "metadata": {},
   "outputs": [],
   "source": []
  },
  {
   "cell_type": "code",
   "execution_count": null,
   "metadata": {},
   "outputs": [],
   "source": []
  }
 ],
 "metadata": {
  "kernelspec": {
   "display_name": "transcriber",
   "language": "python",
   "name": "python3"
  },
  "language_info": {
   "codemirror_mode": {
    "name": "ipython",
    "version": 3
   },
   "file_extension": ".py",
   "mimetype": "text/x-python",
   "name": "python",
   "nbconvert_exporter": "python",
   "pygments_lexer": "ipython3",
   "version": "3.11.4"
  }
 },
 "nbformat": 4,
 "nbformat_minor": 2
}
