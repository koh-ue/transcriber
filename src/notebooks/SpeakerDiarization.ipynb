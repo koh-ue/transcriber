{
 "cells": [
  {
   "cell_type": "markdown",
   "metadata": {},
   "source": [
    "## Importing Libraries"
   ]
  },
  {
   "cell_type": "code",
   "execution_count": 1,
   "metadata": {},
   "outputs": [],
   "source": [
    "import os\n",
    "import pickle\n",
    "import warnings\n",
    "import librosa\n",
    "import numpy as np\n",
    "import pandas as pd\n",
    "from sklearn.cluster import AgglomerativeClustering\n",
    "from sklearn.preprocessing import StandardScaler, normalize\n",
    "from sklearn.mixture import *\n",
    "from matplotlib import pyplot as plt\n",
    "import numpy as np"
   ]
  },
  {
   "cell_type": "markdown",
   "metadata": {},
   "source": [
    "## Defining segment length frame rate and bit rate "
   ]
  },
  {
   "cell_type": "code",
   "execution_count": 2,
   "metadata": {},
   "outputs": [],
   "source": [
    "segLen,frameRate,numMix = 3,50,128"
   ]
  },
  {
   "cell_type": "markdown",
   "metadata": {},
   "source": [
    "## Function for Voice Activity Detection"
   ]
  },
  {
   "cell_type": "code",
   "execution_count": 6,
   "metadata": {},
   "outputs": [],
   "source": [
    "def VoiceActivityDetection(wavData, frameRate):\n",
    "    # uses the librosa library to compute short-term energy\n",
    "    ste = librosa.feature.rms(y=wavData,hop_length=int(16000/frameRate)).T\n",
    "    thresh = 0.1*(np.percentile(ste,97.5) + 9*np.percentile(ste,2.5))    # Trim 5% off and set threshold as 0.1x of the ste range\n",
    "    return (ste>thresh).astype('bool')"
   ]
  },
  {
   "cell_type": "code",
   "execution_count": 7,
   "metadata": {},
   "outputs": [],
   "source": [
    "wavFile=\"../../../result/family-conversation/family-conversation.wav\""
   ]
  },
  {
   "cell_type": "code",
   "execution_count": 8,
   "metadata": {},
   "outputs": [
    {
     "name": "stdout",
     "output_type": "stream",
     "text": [
      "CPU times: user 115 ms, sys: 8.26 ms, total: 124 ms\n",
      "Wall time: 124 ms\n"
     ]
    }
   ],
   "source": [
    "wavData,_ = librosa.load(wavFile,sr=44100)\n",
    "%time vad=VoiceActivityDetection(wavData,frameRate)"
   ]
  },
  {
   "cell_type": "code",
   "execution_count": 10,
   "metadata": {},
   "outputs": [],
   "source": [
    "mfcc = librosa.feature.mfcc(y=wavData, sr=16000, n_mfcc=20,hop_length=int(16000/frameRate)).T\n",
    "vad = np.reshape(vad,(len(vad),))\n",
    "if mfcc.shape[0] > vad.shape[0]:\n",
    "    vad = np.hstack((vad,np.zeros(mfcc.shape[0] - vad.shape[0]).astype('bool'))).astype('bool')\n",
    "elif mfcc.shape[0] < vad.shape[0]:\n",
    "    vad = vad[:mfcc.shape[0]]\n",
    "mfcc = mfcc[vad,:];"
   ]
  },
  {
   "cell_type": "markdown",
   "metadata": {},
   "source": [
    "## N_Component"
   ]
  },
  {
   "cell_type": "code",
   "execution_count": 11,
   "metadata": {},
   "outputs": [
    {
     "ename": "KeyboardInterrupt",
     "evalue": "",
     "output_type": "error",
     "traceback": [
      "\u001b[0;31m---------------------------------------------------------------------------\u001b[0m",
      "\u001b[0;31mKeyboardInterrupt\u001b[0m                         Traceback (most recent call last)",
      "Cell \u001b[0;32mIn[11], line 2\u001b[0m\n\u001b[1;32m      1\u001b[0m n_components \u001b[38;5;241m=\u001b[39m np\u001b[38;5;241m.\u001b[39marange(\u001b[38;5;241m1\u001b[39m, \u001b[38;5;241m25\u001b[39m)\n\u001b[0;32m----> 2\u001b[0m models \u001b[38;5;241m=\u001b[39m \u001b[43m[\u001b[49m\u001b[43mGaussianMixture\u001b[49m\u001b[43m(\u001b[49m\u001b[43mn\u001b[49m\u001b[43m,\u001b[49m\u001b[43m \u001b[49m\u001b[43mcovariance_type\u001b[49m\u001b[38;5;241;43m=\u001b[39;49m\u001b[38;5;124;43m'\u001b[39;49m\u001b[38;5;124;43mfull\u001b[39;49m\u001b[38;5;124;43m'\u001b[39;49m\u001b[43m,\u001b[49m\u001b[43m \u001b[49m\u001b[43mrandom_state\u001b[49m\u001b[38;5;241;43m=\u001b[39;49m\u001b[38;5;241;43m0\u001b[39;49m\u001b[43m)\u001b[49m\u001b[38;5;241;43m.\u001b[39;49m\u001b[43mfit\u001b[49m\u001b[43m(\u001b[49m\u001b[43mmfcc\u001b[49m\u001b[43m)\u001b[49m\n\u001b[1;32m      3\u001b[0m \u001b[43m          \u001b[49m\u001b[38;5;28;43;01mfor\u001b[39;49;00m\u001b[43m \u001b[49m\u001b[43mn\u001b[49m\u001b[43m \u001b[49m\u001b[38;5;129;43;01min\u001b[39;49;00m\u001b[43m \u001b[49m\u001b[43mn_components\u001b[49m\u001b[43m]\u001b[49m\n",
      "Cell \u001b[0;32mIn[11], line 2\u001b[0m, in \u001b[0;36m<listcomp>\u001b[0;34m(.0)\u001b[0m\n\u001b[1;32m      1\u001b[0m n_components \u001b[38;5;241m=\u001b[39m np\u001b[38;5;241m.\u001b[39marange(\u001b[38;5;241m1\u001b[39m, \u001b[38;5;241m25\u001b[39m)\n\u001b[0;32m----> 2\u001b[0m models \u001b[38;5;241m=\u001b[39m [\u001b[43mGaussianMixture\u001b[49m\u001b[43m(\u001b[49m\u001b[43mn\u001b[49m\u001b[43m,\u001b[49m\u001b[43m \u001b[49m\u001b[43mcovariance_type\u001b[49m\u001b[38;5;241;43m=\u001b[39;49m\u001b[38;5;124;43m'\u001b[39;49m\u001b[38;5;124;43mfull\u001b[39;49m\u001b[38;5;124;43m'\u001b[39;49m\u001b[43m,\u001b[49m\u001b[43m \u001b[49m\u001b[43mrandom_state\u001b[49m\u001b[38;5;241;43m=\u001b[39;49m\u001b[38;5;241;43m0\u001b[39;49m\u001b[43m)\u001b[49m\u001b[38;5;241;43m.\u001b[39;49m\u001b[43mfit\u001b[49m\u001b[43m(\u001b[49m\u001b[43mmfcc\u001b[49m\u001b[43m)\u001b[49m\n\u001b[1;32m      3\u001b[0m           \u001b[38;5;28;01mfor\u001b[39;00m n \u001b[38;5;129;01min\u001b[39;00m n_components]\n",
      "File \u001b[0;32m~/.pyenv/versions/miniconda3-3.11-23.5.2-0/envs/transcriber/lib/python3.11/site-packages/sklearn/mixture/_base.py:181\u001b[0m, in \u001b[0;36mBaseMixture.fit\u001b[0;34m(self, X, y)\u001b[0m\n\u001b[1;32m    155\u001b[0m \u001b[38;5;250m\u001b[39m\u001b[38;5;124;03m\"\"\"Estimate model parameters with the EM algorithm.\u001b[39;00m\n\u001b[1;32m    156\u001b[0m \n\u001b[1;32m    157\u001b[0m \u001b[38;5;124;03mThe method fits the model ``n_init`` times and sets the parameters with\u001b[39;00m\n\u001b[0;32m   (...)\u001b[0m\n\u001b[1;32m    178\u001b[0m \u001b[38;5;124;03m    The fitted mixture.\u001b[39;00m\n\u001b[1;32m    179\u001b[0m \u001b[38;5;124;03m\"\"\"\u001b[39;00m\n\u001b[1;32m    180\u001b[0m \u001b[38;5;66;03m# parameters are validated in fit_predict\u001b[39;00m\n\u001b[0;32m--> 181\u001b[0m \u001b[38;5;28;43mself\u001b[39;49m\u001b[38;5;241;43m.\u001b[39;49m\u001b[43mfit_predict\u001b[49m\u001b[43m(\u001b[49m\u001b[43mX\u001b[49m\u001b[43m,\u001b[49m\u001b[43m \u001b[49m\u001b[43my\u001b[49m\u001b[43m)\u001b[49m\n\u001b[1;32m    182\u001b[0m \u001b[38;5;28;01mreturn\u001b[39;00m \u001b[38;5;28mself\u001b[39m\n",
      "File \u001b[0;32m~/.pyenv/versions/miniconda3-3.11-23.5.2-0/envs/transcriber/lib/python3.11/site-packages/sklearn/base.py:1351\u001b[0m, in \u001b[0;36m_fit_context.<locals>.decorator.<locals>.wrapper\u001b[0;34m(estimator, *args, **kwargs)\u001b[0m\n\u001b[1;32m   1344\u001b[0m     estimator\u001b[38;5;241m.\u001b[39m_validate_params()\n\u001b[1;32m   1346\u001b[0m \u001b[38;5;28;01mwith\u001b[39;00m config_context(\n\u001b[1;32m   1347\u001b[0m     skip_parameter_validation\u001b[38;5;241m=\u001b[39m(\n\u001b[1;32m   1348\u001b[0m         prefer_skip_nested_validation \u001b[38;5;129;01mor\u001b[39;00m global_skip_validation\n\u001b[1;32m   1349\u001b[0m     )\n\u001b[1;32m   1350\u001b[0m ):\n\u001b[0;32m-> 1351\u001b[0m     \u001b[38;5;28;01mreturn\u001b[39;00m \u001b[43mfit_method\u001b[49m\u001b[43m(\u001b[49m\u001b[43mestimator\u001b[49m\u001b[43m,\u001b[49m\u001b[43m \u001b[49m\u001b[38;5;241;43m*\u001b[39;49m\u001b[43margs\u001b[49m\u001b[43m,\u001b[49m\u001b[43m \u001b[49m\u001b[38;5;241;43m*\u001b[39;49m\u001b[38;5;241;43m*\u001b[39;49m\u001b[43mkwargs\u001b[49m\u001b[43m)\u001b[49m\n",
      "File \u001b[0;32m~/.pyenv/versions/miniconda3-3.11-23.5.2-0/envs/transcriber/lib/python3.11/site-packages/sklearn/mixture/_base.py:247\u001b[0m, in \u001b[0;36mBaseMixture.fit_predict\u001b[0;34m(self, X, y)\u001b[0m\n\u001b[1;32m    244\u001b[0m prev_lower_bound \u001b[38;5;241m=\u001b[39m lower_bound\n\u001b[1;32m    246\u001b[0m log_prob_norm, log_resp \u001b[38;5;241m=\u001b[39m \u001b[38;5;28mself\u001b[39m\u001b[38;5;241m.\u001b[39m_e_step(X)\n\u001b[0;32m--> 247\u001b[0m \u001b[38;5;28;43mself\u001b[39;49m\u001b[38;5;241;43m.\u001b[39;49m\u001b[43m_m_step\u001b[49m\u001b[43m(\u001b[49m\u001b[43mX\u001b[49m\u001b[43m,\u001b[49m\u001b[43m \u001b[49m\u001b[43mlog_resp\u001b[49m\u001b[43m)\u001b[49m\n\u001b[1;32m    248\u001b[0m lower_bound \u001b[38;5;241m=\u001b[39m \u001b[38;5;28mself\u001b[39m\u001b[38;5;241m.\u001b[39m_compute_lower_bound(log_resp, log_prob_norm)\n\u001b[1;32m    250\u001b[0m change \u001b[38;5;241m=\u001b[39m lower_bound \u001b[38;5;241m-\u001b[39m prev_lower_bound\n",
      "File \u001b[0;32m~/.pyenv/versions/miniconda3-3.11-23.5.2-0/envs/transcriber/lib/python3.11/site-packages/sklearn/mixture/_gaussian_mixture.py:816\u001b[0m, in \u001b[0;36mGaussianMixture._m_step\u001b[0;34m(self, X, log_resp)\u001b[0m\n\u001b[1;32m    812\u001b[0m \u001b[38;5;28mself\u001b[39m\u001b[38;5;241m.\u001b[39mweights_, \u001b[38;5;28mself\u001b[39m\u001b[38;5;241m.\u001b[39mmeans_, \u001b[38;5;28mself\u001b[39m\u001b[38;5;241m.\u001b[39mcovariances_ \u001b[38;5;241m=\u001b[39m _estimate_gaussian_parameters(\n\u001b[1;32m    813\u001b[0m     X, np\u001b[38;5;241m.\u001b[39mexp(log_resp), \u001b[38;5;28mself\u001b[39m\u001b[38;5;241m.\u001b[39mreg_covar, \u001b[38;5;28mself\u001b[39m\u001b[38;5;241m.\u001b[39mcovariance_type\n\u001b[1;32m    814\u001b[0m )\n\u001b[1;32m    815\u001b[0m \u001b[38;5;28mself\u001b[39m\u001b[38;5;241m.\u001b[39mweights_ \u001b[38;5;241m/\u001b[39m\u001b[38;5;241m=\u001b[39m \u001b[38;5;28mself\u001b[39m\u001b[38;5;241m.\u001b[39mweights_\u001b[38;5;241m.\u001b[39msum()\n\u001b[0;32m--> 816\u001b[0m \u001b[38;5;28mself\u001b[39m\u001b[38;5;241m.\u001b[39mprecisions_cholesky_ \u001b[38;5;241m=\u001b[39m \u001b[43m_compute_precision_cholesky\u001b[49m\u001b[43m(\u001b[49m\n\u001b[1;32m    817\u001b[0m \u001b[43m    \u001b[49m\u001b[38;5;28;43mself\u001b[39;49m\u001b[38;5;241;43m.\u001b[39;49m\u001b[43mcovariances_\u001b[49m\u001b[43m,\u001b[49m\u001b[43m \u001b[49m\u001b[38;5;28;43mself\u001b[39;49m\u001b[38;5;241;43m.\u001b[39;49m\u001b[43mcovariance_type\u001b[49m\n\u001b[1;32m    818\u001b[0m \u001b[43m\u001b[49m\u001b[43m)\u001b[49m\n",
      "File \u001b[0;32m~/.pyenv/versions/miniconda3-3.11-23.5.2-0/envs/transcriber/lib/python3.11/site-packages/sklearn/mixture/_gaussian_mixture.py:332\u001b[0m, in \u001b[0;36m_compute_precision_cholesky\u001b[0;34m(covariances, covariance_type)\u001b[0m\n\u001b[1;32m    330\u001b[0m         \u001b[38;5;28;01mexcept\u001b[39;00m linalg\u001b[38;5;241m.\u001b[39mLinAlgError:\n\u001b[1;32m    331\u001b[0m             \u001b[38;5;28;01mraise\u001b[39;00m \u001b[38;5;167;01mValueError\u001b[39;00m(estimate_precision_error_message)\n\u001b[0;32m--> 332\u001b[0m         precisions_chol[k] \u001b[38;5;241m=\u001b[39m \u001b[43mlinalg\u001b[49m\u001b[38;5;241;43m.\u001b[39;49m\u001b[43msolve_triangular\u001b[49m\u001b[43m(\u001b[49m\n\u001b[1;32m    333\u001b[0m \u001b[43m            \u001b[49m\u001b[43mcov_chol\u001b[49m\u001b[43m,\u001b[49m\u001b[43m \u001b[49m\u001b[43mnp\u001b[49m\u001b[38;5;241;43m.\u001b[39;49m\u001b[43meye\u001b[49m\u001b[43m(\u001b[49m\u001b[43mn_features\u001b[49m\u001b[43m)\u001b[49m\u001b[43m,\u001b[49m\u001b[43m \u001b[49m\u001b[43mlower\u001b[49m\u001b[38;5;241;43m=\u001b[39;49m\u001b[38;5;28;43;01mTrue\u001b[39;49;00m\n\u001b[1;32m    334\u001b[0m \u001b[43m        \u001b[49m\u001b[43m)\u001b[49m\u001b[38;5;241m.\u001b[39mT\n\u001b[1;32m    335\u001b[0m \u001b[38;5;28;01melif\u001b[39;00m covariance_type \u001b[38;5;241m==\u001b[39m \u001b[38;5;124m\"\u001b[39m\u001b[38;5;124mtied\u001b[39m\u001b[38;5;124m\"\u001b[39m:\n\u001b[1;32m    336\u001b[0m     _, n_features \u001b[38;5;241m=\u001b[39m covariances\u001b[38;5;241m.\u001b[39mshape\n",
      "File \u001b[0;32m~/.pyenv/versions/miniconda3-3.11-23.5.2-0/envs/transcriber/lib/python3.11/site-packages/scipy/linalg/_basic.py:347\u001b[0m, in \u001b[0;36msolve_triangular\u001b[0;34m(a, b, trans, lower, unit_diagonal, overwrite_b, check_finite)\u001b[0m\n\u001b[1;32m    345\u001b[0m trtrs, \u001b[38;5;241m=\u001b[39m get_lapack_funcs((\u001b[38;5;124m'\u001b[39m\u001b[38;5;124mtrtrs\u001b[39m\u001b[38;5;124m'\u001b[39m,), (a1, b1))\n\u001b[1;32m    346\u001b[0m \u001b[38;5;28;01mif\u001b[39;00m a1\u001b[38;5;241m.\u001b[39mflags\u001b[38;5;241m.\u001b[39mf_contiguous \u001b[38;5;129;01mor\u001b[39;00m trans \u001b[38;5;241m==\u001b[39m \u001b[38;5;241m2\u001b[39m:\n\u001b[0;32m--> 347\u001b[0m     x, info \u001b[38;5;241m=\u001b[39m \u001b[43mtrtrs\u001b[49m\u001b[43m(\u001b[49m\u001b[43ma1\u001b[49m\u001b[43m,\u001b[49m\u001b[43m \u001b[49m\u001b[43mb1\u001b[49m\u001b[43m,\u001b[49m\u001b[43m \u001b[49m\u001b[43moverwrite_b\u001b[49m\u001b[38;5;241;43m=\u001b[39;49m\u001b[43moverwrite_b\u001b[49m\u001b[43m,\u001b[49m\u001b[43m \u001b[49m\u001b[43mlower\u001b[49m\u001b[38;5;241;43m=\u001b[39;49m\u001b[43mlower\u001b[49m\u001b[43m,\u001b[49m\n\u001b[1;32m    348\u001b[0m \u001b[43m                    \u001b[49m\u001b[43mtrans\u001b[49m\u001b[38;5;241;43m=\u001b[39;49m\u001b[43mtrans\u001b[49m\u001b[43m,\u001b[49m\u001b[43m \u001b[49m\u001b[43munitdiag\u001b[49m\u001b[38;5;241;43m=\u001b[39;49m\u001b[43munit_diagonal\u001b[49m\u001b[43m)\u001b[49m\n\u001b[1;32m    349\u001b[0m \u001b[38;5;28;01melse\u001b[39;00m:\n\u001b[1;32m    350\u001b[0m     \u001b[38;5;66;03m# transposed system is solved since trtrs expects Fortran ordering\u001b[39;00m\n\u001b[1;32m    351\u001b[0m     x, info \u001b[38;5;241m=\u001b[39m trtrs(a1\u001b[38;5;241m.\u001b[39mT, b1, overwrite_b\u001b[38;5;241m=\u001b[39moverwrite_b, lower\u001b[38;5;241m=\u001b[39m\u001b[38;5;129;01mnot\u001b[39;00m lower,\n\u001b[1;32m    352\u001b[0m                     trans\u001b[38;5;241m=\u001b[39m\u001b[38;5;129;01mnot\u001b[39;00m trans, unitdiag\u001b[38;5;241m=\u001b[39munit_diagonal)\n",
      "\u001b[0;31mKeyboardInterrupt\u001b[0m: "
     ]
    }
   ],
   "source": [
    "n_components = np.arange(1, 25)\n",
    "models = [GaussianMixture(n, covariance_type='full', random_state=0).fit(mfcc)\n",
    "          for n in n_components]"
   ]
  },
  {
   "cell_type": "code",
   "execution_count": 11,
   "metadata": {},
   "outputs": [
    {
     "data": {
      "image/png": "[encoded data removed]",
      "text/plain": [
       "<Figure size 1080x720 with 1 Axes>"
      ]
     },
     "metadata": {
      "needs_background": "light"
     },
     "output_type": "display_data"
    }
   ],
   "source": [
    "plt.figure(figsize=(15, 10))\n",
    "plt.plot(n_components, [m.bic(mfcc) for m in models], label='BIC')\n",
    "plt.plot(n_components, [m.aic(mfcc) for m in models], label='AIC')\n",
    "plt.legend(loc='best')\n",
    "plt.xlabel('GMM n_components for an audio file');"
   ]
  },
  {
   "cell_type": "markdown",
   "metadata": {},
   "source": [
    "## GMM Training"
   ]
  },
  {
   "cell_type": "code",
   "execution_count": 12,
   "metadata": {},
   "outputs": [],
   "source": [
    "def trainGMM(wavFile, frameRate, segLen, vad, numMix):\n",
    "    wavData,_ = librosa.load(wavFile,sr=16000)\n",
    "    mfcc = librosa.feature.mfcc(wavData, sr=16000, n_mfcc=20,hop_length=int(16000/frameRate)).T\n",
    "    vad = np.reshape(vad,(len(vad),))\n",
    "    if mfcc.shape[0] > vad.shape[0]:\n",
    "        vad = np.hstack((vad,np.zeros(mfcc.shape[0] - vad.shape[0]).astype('bool'))).astype('bool')\n",
    "    elif mfcc.shape[0] < vad.shape[0]:\n",
    "        vad = vad[:mfcc.shape[0]]\n",
    "    mfcc = mfcc[vad,:];\n",
    "    print(\"Training GMM..\")\n",
    "    GMM = GaussianMixture(n_components=numMix,covariance_type='diag').fit(mfcc)\n",
    "    var_floor = 1e-5\n",
    "    segLikes = []\n",
    "    segSize = frameRate*segLen\n",
    "    for segI in range(int(np.ceil(float(mfcc.shape[0])/(frameRate*segLen)))):\n",
    "        startI = segI*segSize\n",
    "        endI = (segI+1)*segSize\n",
    "        if endI > mfcc.shape[0]:\n",
    "            endI = mfcc.shape[0]-1\n",
    "        if endI==startI:    # Reached the end of file\n",
    "            break\n",
    "        seg = mfcc[startI:endI,:]\n",
    "        compLikes = np.sum(GMM.predict_proba(seg),0)\n",
    "        segLikes.append(compLikes/seg.shape[0])\n",
    "    print(\"Training Done\")\n",
    "\n",
    "    return np.asarray(segLikes)"
   ]
  },
  {
   "cell_type": "code",
   "execution_count": 13,
   "metadata": {},
   "outputs": [
    {
     "name": "stdout",
     "output_type": "stream",
     "text": [
      "Training GMM..\n",
      "Training Done\n"
     ]
    }
   ],
   "source": [
    "clusterset = trainGMM(wavFile, frameRate, segLen, vad, numMix)"
   ]
  },
  {
   "cell_type": "markdown",
   "metadata": {},
   "source": [
    "## Clustering Analysis"
   ]
  },
  {
   "cell_type": "code",
   "execution_count": 14,
   "metadata": {},
   "outputs": [],
   "source": [
    "scaler = StandardScaler()\n",
    "X_scaled = scaler.fit_transform(clusterset)  \n",
    "# Normalizing the data so that the data approximately \n",
    "# follows a Gaussian distribution\n",
    "X_normalized = normalize(X_scaled)"
   ]
  },
  {
   "cell_type": "code",
   "execution_count": 15,
   "metadata": {},
   "outputs": [],
   "source": [
    "\n",
    "cluster = AgglomerativeClustering(n_clusters=2, affinity='euclidean', linkage='ward') \n",
    "clust=cluster.fit_predict(X_normalized)"
   ]
  },
  {
   "cell_type": "markdown",
   "metadata": {},
   "source": [
    "## Convert Segment to Frame"
   ]
  },
  {
   "cell_type": "code",
   "execution_count": 16,
   "metadata": {},
   "outputs": [],
   "source": [
    "def SegmentFrame(clust, segLen, frameRate, numFrames):\n",
    "    frameClust = np.zeros(numFrames)\n",
    "    for clustI in range(len(clust)-1):\n",
    "        frameClust[clustI*segLen*frameRate:(clustI+1)*segLen*frameRate] = clust[clustI]*np.ones(segLen*frameRate)\n",
    "    frameClust[(clustI+1)*segLen*frameRate:] = clust[clustI+1]*np.ones(numFrames-(clustI+1)*segLen*frameRate)\n",
    "    return frameClust"
   ]
  },
  {
   "cell_type": "code",
   "execution_count": 17,
   "metadata": {},
   "outputs": [],
   "source": [
    "frameClust = SegmentFrame(clust, segLen, frameRate, mfcc.shape[0])\n"
   ]
  },
  {
   "cell_type": "markdown",
   "metadata": {},
   "source": [
    "## Adding Speaker Labels"
   ]
  },
  {
   "cell_type": "code",
   "execution_count": 29,
   "metadata": {},
   "outputs": [],
   "source": [
    "def speakerdiarisationdf(hyp, frameRate, wavFile):\n",
    "    audioname=[]\n",
    "    starttime=[]\n",
    "    endtime=[]\n",
    "    speakerlabel=[]\n",
    "            \n",
    "    spkrChangePoints = np.where(hyp[:-1] != hyp[1:])[0]\n",
    "    if spkrChangePoints[0]!=0 and hyp[0]!=-1:\n",
    "        spkrChangePoints = np.concatenate(([0],spkrChangePoints))\n",
    "    spkrLabels = []    \n",
    "    for spkrHomoSegI in range(len(spkrChangePoints)):\n",
    "        spkrLabels.append(hyp[spkrChangePoints[spkrHomoSegI]+1])\n",
    "    for spkrI,spkr in enumerate(spkrLabels[:-1]):\n",
    "        if spkr!=-1:\n",
    "            audioname.append(wavFile.split('/')[-1].split('.')[0]+\".wav\")\n",
    "            starttime.append((spkrChangePoints[spkrI]+1)/float(frameRate))\n",
    "            endtime.append((spkrChangePoints[spkrI+1]-spkrChangePoints[spkrI])/float(frameRate))\n",
    "            speakerlabel.append(\"Speaker \"+str(int(spkr)))\n",
    "    if spkrLabels[-1]!=-1:\n",
    "        audioname.append(wavFile.split('/')[-1].split('.')[0]+\".wav\")\n",
    "        starttime.append(spkrChangePoints[-1]/float(frameRate))\n",
    "        endtime.append((len(hyp) - spkrChangePoints[-1])/float(frameRate))\n",
    "        speakerlabel.append(\"Speaker \"+str(int(spkrLabels[-1])))\n",
    "    #\n",
    "    speakerdf=pd.DataFrame({\"Audio\":audioname,\"starttime\":starttime,\"endtime\":endtime,\"speakerlabel\":speakerlabel})\n",
    "    \n",
    "    spdatafinal=pd.DataFrame(columns=['Audio','SpeakerLabel','StartTime','EndTime'])\n",
    "    i=0\n",
    "    k=0\n",
    "    j=0\n",
    "    spfind=\"\"\n",
    "    stime=\"\"\n",
    "    etime=\"\"\n",
    "    for row in speakerdf.itertuples():\n",
    "        if(i==0):\n",
    "            spfind=row.speakerlabel\n",
    "            stime=row.starttime\n",
    "        else:\n",
    "            if(spfind==row.speakerlabel):\n",
    "                etime=row.starttime        \n",
    "            else:\n",
    "                spdatafinal.loc[k]=[wavFile.split('/')[-1].split('.')[0]+\".wav\",spfind,stime,row.starttime]\n",
    "                k=k+1\n",
    "                spfind=row.speakerlabel\n",
    "                stime=row.starttime\n",
    "        i=i+1\n",
    "    spdatafinal.loc[k]=[wavFile.split('/')[-1].split('.')[0]+\".wav\",spfind,stime,etime]\n",
    "    return spdatafinal\n",
    "    "
   ]
  },
  {
   "cell_type": "code",
   "execution_count": 30,
   "metadata": {},
   "outputs": [],
   "source": [
    "pass1hyp = -1*np.ones(len(vad))\n",
    "pass1hyp[vad] = frameClust\n",
    "spkdf=speakerdiarisationdf(pass1hyp, frameRate, wavFile)\n"
   ]
  },
  {
   "cell_type": "code",
   "execution_count": 31,
   "metadata": {},
   "outputs": [],
   "source": [
    "spkdf[\"TimeSeconds\"]=spkdf.EndTime-spkdf.StartTime"
   ]
  },
  {
   "cell_type": "code",
   "execution_count": 32,
   "metadata": {},
   "outputs": [
    {
     "data": {
      "text/html": [
       "<div>\n",
       "<style scoped>\n",
       "    .dataframe tbody tr th:only-of-type {\n",
       "        vertical-align: middle;\n",
       "    }\n",
       "\n",
       "    .dataframe tbody tr th {\n",
       "        vertical-align: top;\n",
       "    }\n",
       "\n",
       "    .dataframe thead th {\n",
       "        text-align: right;\n",
       "    }\n",
       "</style>\n",
       "<table border=\"1\" class=\"dataframe\">\n",
       "  <thead>\n",
       "    <tr style=\"text-align: right;\">\n",
       "      <th></th>\n",
       "      <th>Audio</th>\n",
       "      <th>SpeakerLabel</th>\n",
       "      <th>StartTime</th>\n",
       "      <th>EndTime</th>\n",
       "      <th>TimeSeconds</th>\n",
       "    </tr>\n",
       "  </thead>\n",
       "  <tbody>\n",
       "    <tr>\n",
       "      <th>0</th>\n",
       "      <td>4547.wav</td>\n",
       "      <td>Speaker 0</td>\n",
       "      <td>0.02</td>\n",
       "      <td>18.62</td>\n",
       "      <td>18.60</td>\n",
       "    </tr>\n",
       "    <tr>\n",
       "      <th>1</th>\n",
       "      <td>4547.wav</td>\n",
       "      <td>Speaker 1</td>\n",
       "      <td>18.62</td>\n",
       "      <td>30.46</td>\n",
       "      <td>11.84</td>\n",
       "    </tr>\n",
       "    <tr>\n",
       "      <th>2</th>\n",
       "      <td>4547.wav</td>\n",
       "      <td>Speaker 0</td>\n",
       "      <td>30.46</td>\n",
       "      <td>46.36</td>\n",
       "      <td>15.90</td>\n",
       "    </tr>\n",
       "    <tr>\n",
       "      <th>3</th>\n",
       "      <td>4547.wav</td>\n",
       "      <td>Speaker 1</td>\n",
       "      <td>46.36</td>\n",
       "      <td>53.38</td>\n",
       "      <td>7.02</td>\n",
       "    </tr>\n",
       "    <tr>\n",
       "      <th>4</th>\n",
       "      <td>4547.wav</td>\n",
       "      <td>Speaker 0</td>\n",
       "      <td>53.38</td>\n",
       "      <td>69.34</td>\n",
       "      <td>15.96</td>\n",
       "    </tr>\n",
       "    <tr>\n",
       "      <th>5</th>\n",
       "      <td>4547.wav</td>\n",
       "      <td>Speaker 1</td>\n",
       "      <td>69.34</td>\n",
       "      <td>80.06</td>\n",
       "      <td>10.72</td>\n",
       "    </tr>\n",
       "    <tr>\n",
       "      <th>6</th>\n",
       "      <td>4547.wav</td>\n",
       "      <td>Speaker 0</td>\n",
       "      <td>80.06</td>\n",
       "      <td>115.74</td>\n",
       "      <td>35.68</td>\n",
       "    </tr>\n",
       "    <tr>\n",
       "      <th>7</th>\n",
       "      <td>4547.wav</td>\n",
       "      <td>Speaker 1</td>\n",
       "      <td>115.74</td>\n",
       "      <td>124.46</td>\n",
       "      <td>8.72</td>\n",
       "    </tr>\n",
       "    <tr>\n",
       "      <th>8</th>\n",
       "      <td>4547.wav</td>\n",
       "      <td>Speaker 0</td>\n",
       "      <td>124.46</td>\n",
       "      <td>146.72</td>\n",
       "      <td>22.26</td>\n",
       "    </tr>\n",
       "    <tr>\n",
       "      <th>9</th>\n",
       "      <td>4547.wav</td>\n",
       "      <td>Speaker 1</td>\n",
       "      <td>146.72</td>\n",
       "      <td>174.26</td>\n",
       "      <td>27.54</td>\n",
       "    </tr>\n",
       "    <tr>\n",
       "      <th>10</th>\n",
       "      <td>4547.wav</td>\n",
       "      <td>Speaker 0</td>\n",
       "      <td>174.26</td>\n",
       "      <td>181.94</td>\n",
       "      <td>7.68</td>\n",
       "    </tr>\n",
       "    <tr>\n",
       "      <th>11</th>\n",
       "      <td>4547.wav</td>\n",
       "      <td>Speaker 1</td>\n",
       "      <td>181.94</td>\n",
       "      <td>186.56</td>\n",
       "      <td>4.62</td>\n",
       "    </tr>\n",
       "    <tr>\n",
       "      <th>12</th>\n",
       "      <td>4547.wav</td>\n",
       "      <td>Speaker 0</td>\n",
       "      <td>186.56</td>\n",
       "      <td>190.10</td>\n",
       "      <td>3.54</td>\n",
       "    </tr>\n",
       "    <tr>\n",
       "      <th>13</th>\n",
       "      <td>4547.wav</td>\n",
       "      <td>Speaker 1</td>\n",
       "      <td>190.10</td>\n",
       "      <td>193.62</td>\n",
       "      <td>3.52</td>\n",
       "    </tr>\n",
       "    <tr>\n",
       "      <th>14</th>\n",
       "      <td>4547.wav</td>\n",
       "      <td>Speaker 0</td>\n",
       "      <td>193.62</td>\n",
       "      <td>209.50</td>\n",
       "      <td>15.88</td>\n",
       "    </tr>\n",
       "    <tr>\n",
       "      <th>15</th>\n",
       "      <td>4547.wav</td>\n",
       "      <td>Speaker 1</td>\n",
       "      <td>209.50</td>\n",
       "      <td>216.92</td>\n",
       "      <td>7.42</td>\n",
       "    </tr>\n",
       "    <tr>\n",
       "      <th>16</th>\n",
       "      <td>4547.wav</td>\n",
       "      <td>Speaker 0</td>\n",
       "      <td>216.92</td>\n",
       "      <td>261.60</td>\n",
       "      <td>44.68</td>\n",
       "    </tr>\n",
       "    <tr>\n",
       "      <th>17</th>\n",
       "      <td>4547.wav</td>\n",
       "      <td>Speaker 1</td>\n",
       "      <td>261.60</td>\n",
       "      <td>281.94</td>\n",
       "      <td>20.34</td>\n",
       "    </tr>\n",
       "    <tr>\n",
       "      <th>18</th>\n",
       "      <td>4547.wav</td>\n",
       "      <td>Speaker 0</td>\n",
       "      <td>281.94</td>\n",
       "      <td>299.10</td>\n",
       "      <td>17.16</td>\n",
       "    </tr>\n",
       "  </tbody>\n",
       "</table>\n",
       "</div>"
      ],
      "text/plain": [
       "       Audio SpeakerLabel  StartTime  EndTime  TimeSeconds\n",
       "0   4547.wav    Speaker 0       0.02    18.62        18.60\n",
       "1   4547.wav    Speaker 1      18.62    30.46        11.84\n",
       "2   4547.wav    Speaker 0      30.46    46.36        15.90\n",
       "3   4547.wav    Speaker 1      46.36    53.38         7.02\n",
       "4   4547.wav    Speaker 0      53.38    69.34        15.96\n",
       "5   4547.wav    Speaker 1      69.34    80.06        10.72\n",
       "6   4547.wav    Speaker 0      80.06   115.74        35.68\n",
       "7   4547.wav    Speaker 1     115.74   124.46         8.72\n",
       "8   4547.wav    Speaker 0     124.46   146.72        22.26\n",
       "9   4547.wav    Speaker 1     146.72   174.26        27.54\n",
       "10  4547.wav    Speaker 0     174.26   181.94         7.68\n",
       "11  4547.wav    Speaker 1     181.94   186.56         4.62\n",
       "12  4547.wav    Speaker 0     186.56   190.10         3.54\n",
       "13  4547.wav    Speaker 1     190.10   193.62         3.52\n",
       "14  4547.wav    Speaker 0     193.62   209.50        15.88\n",
       "15  4547.wav    Speaker 1     209.50   216.92         7.42\n",
       "16  4547.wav    Speaker 0     216.92   261.60        44.68\n",
       "17  4547.wav    Speaker 1     261.60   281.94        20.34\n",
       "18  4547.wav    Speaker 0     281.94   299.10        17.16"
      ]
     },
     "execution_count": 32,
     "metadata": {},
     "output_type": "execute_result"
    }
   ],
   "source": [
    "spkdf"
   ]
  },
  {
   "cell_type": "code",
   "execution_count": null,
   "metadata": {},
   "outputs": [],
   "source": []
  }
 ],
 "metadata": {
  "kernelspec": {
   "display_name": "Python 3",
   "language": "python",
   "name": "python3"
  },
  "language_info": {
   "codemirror_mode": {
    "name": "ipython",
    "version": 3
   },
   "file_extension": ".py",
   "mimetype": "text/x-python",
   "name": "python",
   "nbconvert_exporter": "python",
   "pygments_lexer": "ipython3",
   "version": "3.11.4"
  }
 },
 "nbformat": 4,
 "nbformat_minor": 4
}
