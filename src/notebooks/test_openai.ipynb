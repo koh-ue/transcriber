{
 "cells": [
  {
   "cell_type": "markdown",
   "id": "ca557d6f-5641-406d-b85a-12ce4aac705c",
   "metadata": {},
   "source": [
    "### Transpription from URI"
   ]
  },
  {
   "cell_type": "code",
   "execution_count": 1,
   "id": "a92ba2e9-9b1d-4cc9-9eae-b2df41101af1",
   "metadata": {
    "tags": []
   },
   "outputs": [],
   "source": [
    "# Imports the Google Cloud client library\n",
    "from google.cloud import speech"
   ]
  },
  {
   "cell_type": "code",
   "execution_count": 2,
   "id": "9c950bec-501d-41e8-a456-cbfcf3f9325d",
   "metadata": {},
   "outputs": [],
   "source": [
    "# Instantiates a client\n",
    "client = speech.SpeechClient()"
   ]
  },
  {
   "cell_type": "code",
   "execution_count": 3,
   "id": "a49c76b5-fc09-428b-9a93-717c99cc71d2",
   "metadata": {
    "tags": []
   },
   "outputs": [],
   "source": [
    "# The name of the audio file to transcribe\n",
    "gcs_uri = \"gs://cloud-samples-data/speech/brooklyn_bridge.raw\""
   ]
  },
  {
   "cell_type": "code",
   "execution_count": 4,
   "id": "33050d6c-74ef-4784-95c7-991d03ff598a",
   "metadata": {
    "tags": []
   },
   "outputs": [
    {
     "name": "stdout",
     "output_type": "stream",
     "text": [
      "Transcript: how old is the Brooklyn Bridge\n"
     ]
    }
   ],
   "source": [
    "audio = speech.RecognitionAudio(uri=gcs_uri)\n",
    "\n",
    "config = speech.RecognitionConfig(\n",
    "    encoding=speech.RecognitionConfig.AudioEncoding.LINEAR16,\n",
    "    sample_rate_hertz=16000,\n",
    "    language_code=\"en-US\",\n",
    ")\n",
    "\n",
    "# Detects speech in the audio file\n",
    "response = client.recognize(config=config, audio=audio)\n",
    "\n",
    "for result in response.results:\n",
    "    print(\"Transcript: {}\".format(result.alternatives[0].transcript))"
   ]
  },
  {
   "cell_type": "markdown",
   "id": "7b3834c0-7ccb-4dbf-8195-196c71014a63",
   "metadata": {},
   "source": [
    "### Transcribing short audio files"
   ]
  },
  {
   "cell_type": "code",
   "execution_count": 39,
   "id": "e6023b56-2caa-4fbb-bac7-487aa33ba265",
   "metadata": {
    "tags": []
   },
   "outputs": [],
   "source": [
    "def transcribe_file(speech_file):\n",
    "    \"\"\"Transcribe the given audio file.\"\"\"\n",
    "    from google.cloud import speech\n",
    "    import io\n",
    "\n",
    "    client = speech.SpeechClient()\n",
    "\n",
    "    with io.open(speech_file, \"rb\") as audio_file:\n",
    "        content = audio_file.read()\n",
    "\n",
    "    audio = speech.RecognitionAudio(content=content)\n",
    "    config = speech.RecognitionConfig(\n",
    "        encoding=speech.RecognitionConfig.AudioEncoding.LINEAR16,\n",
    "        sample_rate_hertz=44100,\n",
    "        language_code=\"en-US\",\n",
    "    )\n",
    "\n",
    "    response = client.recognize(config=config, audio=audio)\n",
    "\n",
    "    # Each result is for a consecutive portion of the audio. Iterate through\n",
    "    # them to get the transcripts for the entire audio file.\n",
    "    for result in response.results:\n",
    "        # The first alternative is the most likely one for this portion.\n",
    "        print(\"Transcript: {}\".format(result.alternatives[0].transcript))\n"
   ]
  },
  {
   "cell_type": "code",
   "execution_count": 40,
   "id": "6a20a2cc-f35d-4abc-8691-f483ac6d53f6",
   "metadata": {
    "tags": []
   },
   "outputs": [
    {
     "name": "stdout",
     "output_type": "stream",
     "text": [
      "Transcript: I'm honored to be with you today for your commencement from one of the finest universities in the world\n",
      "Transcript:  truth be told\n",
      "Transcript:  I never graduated from college and this is the closest I've ever gotten to a college graduation\n",
      "Transcript:  today I want to tell you three stories for my life that's it no big deal\n"
     ]
    }
   ],
   "source": [
    "transcribe_file('../../records/2023-02-14-00-22-45/audio.wav')"
   ]
  },
  {
   "cell_type": "markdown",
   "id": "144b0d5d-f934-42b6-9e84-ccb30754922b",
   "metadata": {},
   "source": [
    "### Transcribing long files"
   ]
  },
  {
   "cell_type": "code",
   "execution_count": 46,
   "id": "98916fed-7566-4dd7-9080-c70b6749d12b",
   "metadata": {
    "tags": []
   },
   "outputs": [],
   "source": [
    "def transcribe_gcs(gcs_uri):\n",
    "    \"\"\"Asynchronously transcribes the audio file specified by the gcs_uri.\"\"\"\n",
    "    from google.cloud import speech\n",
    "\n",
    "    client = speech.SpeechClient()\n",
    "\n",
    "    audio = speech.RecognitionAudio(uri=gcs_uri)\n",
    "    config = speech.RecognitionConfig(\n",
    "        encoding=speech.RecognitionConfig.AudioEncoding.LINEAR16,\n",
    "        sample_rate_hertz=44100,\n",
    "        language_code=\"en-US\",\n",
    "    )\n",
    "\n",
    "    operation = client.long_running_recognize(config=config, audio=audio)\n",
    "\n",
    "    print(\"Waiting for operation to complete...\")\n",
    "    response = operation.result(timeout=90)\n",
    "\n",
    "    # Each result is for a consecutive portion of the audio. Iterate through\n",
    "    # them to get the transcripts for the entire audio file.\n",
    "    for result in response.results:\n",
    "        # The first alternative is the most likely one for this portion.\n",
    "        print(\"Transcript: {}\".format(result.alternatives[0].transcript))\n",
    "        print(\"Confidence: {}\".format(result.alternatives[0].confidence))\n"
   ]
  },
  {
   "cell_type": "code",
   "execution_count": 47,
   "id": "3ff61c0c-de24-4eda-8c38-d32cae8c8b3a",
   "metadata": {
    "scrolled": true,
    "tags": []
   },
   "outputs": [
    {
     "name": "stdout",
     "output_type": "stream",
     "text": [
      "Waiting for operation to complete...\n",
      "Transcript: this program is brought to you by Stanford University please visit us at stanford.edu\n",
      "Confidence: 0.9744933843612671\n",
      "Transcript:  thank you\n",
      "Confidence: 0.9544791579246521\n",
      "Transcript:  I'm honored to be with you today for your commencement from one of the finest universities in the world\n",
      "Confidence: 0.9675921201705933\n",
      "Transcript:  truth be told\n",
      "Confidence: 0.9876291155815125\n",
      "Transcript:  I never graduated from college and this is the closest I've ever gotten to a college graduation\n",
      "Confidence: 0.9876018762588501\n",
      "Transcript:  today I want to tell you three stories for my life that's it no big deal just three stories\n",
      "Confidence: 0.9687941670417786\n",
      "Transcript:  the first story is about connecting the dots\n",
      "Confidence: 0.84505295753479\n",
      "Transcript:  I dropped out of college after the first 6 months but then stayed around as a drop in for another 18 months or so before I really quit\n",
      "Confidence: 0.9099323153495789\n",
      "Transcript:  so why did I drop out\n",
      "Confidence: 0.7140986323356628\n",
      "Transcript:  it started before I was born my biological mother was a young unwed graduate student and she decided to put me up for adoption she felt very strongly that I adopted by college graduates so everything is all set for me to be adopted at Birth by a lawyer and his wife\n",
      "Confidence: 0.9709993600845337\n",
      "Transcript:  except that when I popped out they decided at the last minute that they really wanted a girl\n",
      "Confidence: 0.8936102986335754\n",
      "Transcript:  so my parents who are on a waiting list got a call in the middle of the night asking we got an unexpected baby boy do you want him\n",
      "Confidence: 0.9564727544784546\n",
      "Transcript:  they said of course\n",
      "Confidence: 0.9590532779693604\n",
      "Transcript:  my biological mother found out later that my mother had never graduated from college and if my father had never graduated from high school she refused to sign the final adoption papers\n",
      "Confidence: 0.9640517234802246\n",
      "Transcript:  she only relented a few months later when my parents promised that I would go to college this was the start in my life\n",
      "Confidence: 0.984688937664032\n",
      "Transcript:  and 17 years later I did go to college but I naively chose a college it was almost as expensive as Stanford\n",
      "Confidence: 0.9428091049194336\n",
      "Transcript:  and all of my working-class parents savings will be spent on my college tuition after 6 months I couldn't see the value in it I have no idea what I wanted to do with my life and no idea how College was going to help me figure it out and here I was spending all the money my parents had saved their entire life\n",
      "Confidence: 0.950958788394928\n",
      "Transcript:  so I decided to drop out and trust that it would all work out okay it was pretty scary at the time but looking back it was one of the best decisions I ever made\n",
      "Confidence: 0.9716015458106995\n",
      "Transcript:  the minute I dropped out I could stop taking the required classes that didn't interest me and begin dropping in on the ones that looked far more interesting\n",
      "Confidence: 0.9790130853652954\n"
     ]
    }
   ],
   "source": [
    "transcribe_gcs('gs://audio-recorder/audio.wav')"
   ]
  },
  {
   "cell_type": "code",
   "execution_count": 8,
   "id": "58e016fe-c80c-4ecd-bde6-17ba56c0c94a",
   "metadata": {},
   "outputs": [],
   "source": [
    "from google.cloud import storage\n",
    "\n",
    "def upload_blob(bucket_name, source_file_name, destination_blob_name):\n",
    "    \"\"\"Uploads a file to the bucket.\"\"\"\n",
    "    # The ID of your GCS bucket\n",
    "    # bucket_name = \"your-bucket-name\"\n",
    "    # The path to your file to upload\n",
    "    # source_file_name = \"local/path/to/file\"\n",
    "    # The ID of your GCS object\n",
    "    # destination_blob_name = \"storage-object-name\"\n",
    "\n",
    "    storage_client = storage.Client()\n",
    "    bucket = storage_client.bucket(bucket_name)\n",
    "    blob = bucket.blob(destination_blob_name)\n",
    "\n",
    "    blob.upload_from_filename(source_file_name)\n",
    "\n",
    "    print(\n",
    "        f\"File {source_file_name} uploaded to {destination_blob_name}.\"\n",
    "    )\n"
   ]
  },
  {
   "cell_type": "code",
   "execution_count": 54,
   "id": "9bdf4d3e-504f-4b31-a092-c72834dbbd6c",
   "metadata": {
    "tags": []
   },
   "outputs": [
    {
     "name": "stdout",
     "output_type": "stream",
     "text": [
      "File ../../records/2023-02-14-01-13-18/audio.wav uploaded to conversation_sample.wav.\n"
     ]
    }
   ],
   "source": [
    "upload_blob('audio-recorder', '../../records/2023-02-14-01-13-18/audio.wav', 'conversation_sample.wav')"
   ]
  },
  {
   "cell_type": "markdown",
   "id": "4782128f-a8d8-4fdb-8639-6089f5f749c8",
   "metadata": {},
   "source": [
    "### Diarization"
   ]
  },
  {
   "cell_type": "code",
   "execution_count": 76,
   "id": "ee9a920b-51ae-448c-a915-ce7245bb9828",
   "metadata": {
    "tags": []
   },
   "outputs": [],
   "source": [
    "def diarization_gcs(gcs_uri):\n",
    "    from google.cloud import speech_v1p1beta1 as speech\n",
    "\n",
    "    client = speech.SpeechClient()\n",
    "\n",
    "    audio = speech.RecognitionAudio(uri=gcs_uri)\n",
    "\n",
    "    diarization_config = speech.SpeakerDiarizationConfig(\n",
    "        enable_speaker_diarization=True,\n",
    "        min_speaker_count=2,\n",
    "        max_speaker_count=2,\n",
    "    )\n",
    "\n",
    "    config = speech.RecognitionConfig(\n",
    "        encoding=speech.RecognitionConfig.AudioEncoding.LINEAR16,\n",
    "        sample_rate_hertz=44100,\n",
    "        language_code=\"en-US\",\n",
    "        diarization_config=diarization_config,\n",
    "    )\n",
    "    print(\"Waiting for operation to complete...\")\n",
    "    operation = client.long_running_recognize(config=config, audio=audio)\n",
    "    response = operation.result(timeout=900)\n",
    "    result = response.results[-1]\n",
    "    words_info = result.alternatives[0].words\n",
    "\n",
    "    # Printing out the output:\n",
    "    for word_info in words_info:\n",
    "        print(\n",
    "            \"word: '{}', speaker_tag: {}\".format(word_info.word, word_info.speaker_tag)\n",
    "        )"
   ]
  },
  {
   "cell_type": "code",
   "execution_count": 73,
   "id": "b1f50e5e-700f-401f-99d4-57b6cd6dff8b",
   "metadata": {
    "scrolled": true,
    "tags": []
   },
   "outputs": [
    {
     "name": "stdout",
     "output_type": "stream",
     "text": [
      "Waiting for operation to complete...\n",
      "word: 'hello', speaker_tag: 1\n",
      "word: 'hi', speaker_tag: 1\n",
      "word: 'what', speaker_tag: 1\n",
      "word: 'can', speaker_tag: 1\n",
      "word: 'I', speaker_tag: 1\n",
      "word: 'get', speaker_tag: 1\n",
      "word: 'you', speaker_tag: 1\n",
      "word: 'coffee', speaker_tag: 1\n",
      "word: 'milk', speaker_tag: 1\n",
      "word: 'and', speaker_tag: 1\n",
      "word: 'sugar', speaker_tag: 1\n",
      "word: 'no', speaker_tag: 1\n",
      "word: 'milk', speaker_tag: 1\n",
      "word: 'would', speaker_tag: 2\n",
      "word: 'you', speaker_tag: 2\n",
      "word: 'like', speaker_tag: 2\n",
      "word: 'any', speaker_tag: 2\n",
      "word: 'a', speaker_tag: 1\n",
      "word: 'slice', speaker_tag: 1\n",
      "word: 'of', speaker_tag: 1\n",
      "word: 'chocolate', speaker_tag: 1\n",
      "word: 'cake', speaker_tag: 1\n",
      "word: 'some', speaker_tag: 1\n",
      "word: 'pastries', speaker_tag: 1\n",
      "word: 'no', speaker_tag: 1\n",
      "word: 'thanks', speaker_tag: 1\n",
      "word: 'Justin', speaker_tag: 1\n",
      "word: 'amazing', speaker_tag: 1\n",
      "word: 'I', speaker_tag: 1\n",
      "word: 'mean', speaker_tag: 1\n",
      "word: 'what', speaker_tag: 1\n",
      "word: 'Egypt', speaker_tag: 1\n",
      "word: 'credible', speaker_tag: 1\n",
      "word: 'place', speaker_tag: 1\n",
      "word: 'yes', speaker_tag: 1\n",
      "word: 'it's', speaker_tag: 1\n",
      "word: 'best', speaker_tag: 1\n",
      "word: 'me', speaker_tag: 1\n",
      "word: 'do', speaker_tag: 1\n",
      "word: 'you', speaker_tag: 1\n",
      "word: 'travel', speaker_tag: 1\n",
      "word: 'a', speaker_tag: 1\n",
      "word: 'lot', speaker_tag: 1\n",
      "word: 'yes', speaker_tag: 1\n",
      "word: 'I', speaker_tag: 1\n",
      "word: 'do', speaker_tag: 1\n",
      "word: 'a', speaker_tag: 1\n",
      "word: 'lot', speaker_tag: 1\n",
      "word: 'of', speaker_tag: 1\n",
      "word: 'free', speaker_tag: 1\n",
      "word: 'time', speaker_tag: 1\n",
      "word: 'I', speaker_tag: 1\n",
      "word: 'know.', speaker_tag: 1\n",
      "word: 'Are', speaker_tag: 1\n",
      "word: 'you', speaker_tag: 1\n",
      "word: 'interested', speaker_tag: 1\n",
      "word: 'is', speaker_tag: 1\n",
      "word: 'this', speaker_tag: 1\n",
      "word: 'one', speaker_tag: 1\n",
      "word: 'of', speaker_tag: 1\n",
      "word: 'your', speaker_tag: 1\n",
      "word: 'no', speaker_tag: 1\n",
      "word: 'it', speaker_tag: 1\n",
      "word: 'isn't', speaker_tag: 1\n",
      "word: 'but', speaker_tag: 1\n",
      "word: 'I', speaker_tag: 1\n",
      "word: 'know', speaker_tag: 1\n",
      "word: 'the', speaker_tag: 1\n",
      "word: 'photographer', speaker_tag: 1\n",
      "word: 'took', speaker_tag: 1\n",
      "word: 'it', speaker_tag: 1\n",
      "word: 'do', speaker_tag: 1\n",
      "word: 'you', speaker_tag: 1\n",
      "word: 'work', speaker_tag: 1\n",
      "word: 'for', speaker_tag: 1\n",
      "word: 'a', speaker_tag: 1\n",
      "word: 'magazine', speaker_tag: 1\n",
      "word: 'I', speaker_tag: 1\n",
      "word: 'work', speaker_tag: 1\n",
      "word: 'freelance', speaker_tag: 1\n",
      "word: 'so', speaker_tag: 1\n",
      "word: 'I', speaker_tag: 1\n",
      "word: 'work', speaker_tag: 1\n",
      "word: 'for', speaker_tag: 1\n",
      "word: 'different', speaker_tag: 1\n",
      "word: 'magazines', speaker_tag: 1\n",
      "word: 'and', speaker_tag: 1\n",
      "word: 'newspapers', speaker_tag: 1\n",
      "word: 'but', speaker_tag: 1\n",
      "word: 'I', speaker_tag: 1\n",
      "word: 'also', speaker_tag: 1\n",
      "word: 'work', speaker_tag: 1\n",
      "word: 'for', speaker_tag: 1\n",
      "word: 'a', speaker_tag: 1\n",
      "word: 'publishing', speaker_tag: 1\n",
      "word: 'company', speaker_tag: 1\n",
      "word: 'and', speaker_tag: 1\n",
      "word: 'take', speaker_tag: 1\n",
      "word: 'pictures', speaker_tag: 1\n",
      "word: 'for', speaker_tag: 1\n",
      "word: 'the', speaker_tag: 1\n",
      "word: 'travel', speaker_tag: 1\n",
      "word: 'books', speaker_tag: 1\n",
      "word: 'and', speaker_tag: 1\n",
      "word: 'gods', speaker_tag: 1\n",
      "word: 'send', speaker_tag: 1\n",
      "word: 'got', speaker_tag: 1\n",
      "word: 'a', speaker_tag: 1\n",
      "word: 'job', speaker_tag: 1\n",
      "word: 'to', speaker_tag: 1\n",
      "word: 'do', speaker_tag: 1\n",
      "word: 'and', speaker_tag: 1\n",
      "word: 'chilling', speaker_tag: 1\n",
      "word: 'some', speaker_tag: 1\n",
      "word: 'pictures', speaker_tag: 1\n",
      "word: 'for', speaker_tag: 1\n",
      "word: 'a', speaker_tag: 1\n",
      "word: 'magazine', speaker_tag: 1\n",
      "word: 'I'm', speaker_tag: 1\n",
      "word: 'going', speaker_tag: 1\n",
      "word: 'to', speaker_tag: 1\n",
      "word: 'be', speaker_tag: 1\n",
      "word: 'there', speaker_tag: 1\n",
      "word: 'for', speaker_tag: 1\n",
      "word: 'a', speaker_tag: 1\n",
      "word: 'few', speaker_tag: 1\n",
      "word: 'months', speaker_tag: 1\n",
      "word: 'do', speaker_tag: 1\n",
      "word: 'you', speaker_tag: 1\n",
      "word: 'want', speaker_tag: 1\n",
      "word: 'to', speaker_tag: 1\n",
      "word: 'come', speaker_tag: 1\n",
      "word: 'with', speaker_tag: 1\n",
      "word: 'me', speaker_tag: 1\n"
     ]
    }
   ],
   "source": [
    "diarization_gcs('gs://audio-recorder/conversation_sample.wav')"
   ]
  },
  {
   "cell_type": "code",
   "execution_count": 74,
   "id": "dfc71f3c-4b13-406c-bc93-0d1e467559ee",
   "metadata": {
    "tags": []
   },
   "outputs": [
    {
     "name": "stdout",
     "output_type": "stream",
     "text": [
      "File ../../records/2023-02-13-15-56-37/audio.wav uploaded to meeting_log_sample.wav.\n"
     ]
    }
   ],
   "source": [
    "upload_blob('audio-recorder', '../../records/2023-02-13-15-56-37/audio.wav', 'meeting_log_sample.wav')"
   ]
  },
  {
   "cell_type": "code",
   "execution_count": null,
   "id": "ee1246fe-0811-46df-a7fe-3f1b3a603067",
   "metadata": {
    "scrolled": true,
    "tags": []
   },
   "outputs": [
    {
     "name": "stdout",
     "output_type": "stream",
     "text": [
      "Waiting for operation to complete...\n"
     ]
    }
   ],
   "source": [
    "diarization_gcs('gs://audio-recorder/meeting_log_sample.wav')"
   ]
  },
  {
   "cell_type": "markdown",
   "id": "f412000d",
   "metadata": {},
   "source": [
    "## Diarization"
   ]
  },
  {
   "cell_type": "code",
   "execution_count": 16,
   "id": "7810fe65-ed3c-443c-8ceb-0a9b764a7d2b",
   "metadata": {},
   "outputs": [],
   "source": [
    "import yaml\n",
    "import copy\n",
    "import librosa\n",
    "import numpy as np\n",
    "from sklearn.cluster import KMeans\n",
    "from sklearn.preprocessing import StandardScaler"
   ]
  },
  {
   "cell_type": "code",
   "execution_count": 22,
   "id": "b7e28249",
   "metadata": {},
   "outputs": [
    {
     "name": "stdout",
     "output_type": "stream",
     "text": [
      "(4045824,)\n"
     ]
    }
   ],
   "source": [
    "audio_path = \"../../../result/family-conversation/family-conversation.wav\"\n",
    "audio, sr = librosa.load(audio_path, sr=None)\n",
    "print(audio.shape)"
   ]
  },
  {
   "cell_type": "code",
   "execution_count": 18,
   "id": "ed2bc66d",
   "metadata": {},
   "outputs": [],
   "source": [
    "with open(\"../../../result/family-conversation/family-conversation.yaml\", \"r\") as f:\n",
    "    transcript = yaml.safe_load(f)\n",
    "transcript[\"segments\"][0]\n",
    "\n",
    "diarized_segments = copy.deepcopy(transcript[\"segments\"])"
   ]
  },
  {
   "cell_type": "code",
   "execution_count": 42,
   "id": "fbc067a9",
   "metadata": {},
   "outputs": [
    {
     "data": {
      "text/plain": [
       "((20, 7646),\n",
       " [1286,\n",
       "  190,\n",
       "  495,\n",
       "  295,\n",
       "  285,\n",
       "  200,\n",
       "  166,\n",
       "  228,\n",
       "  187,\n",
       "  152,\n",
       "  218,\n",
       "  142,\n",
       "  180,\n",
       "  166,\n",
       "  483,\n",
       "  224,\n",
       "  131,\n",
       "  221,\n",
       "  214,\n",
       "  355,\n",
       "  235,\n",
       "  100,\n",
       "  304,\n",
       "  166,\n",
       "  80,\n",
       "  76,\n",
       "  159,\n",
       "  259,\n",
       "  138,\n",
       "  311])"
      ]
     },
     "execution_count": 42,
     "metadata": {},
     "output_type": "execute_result"
    }
   ],
   "source": [
    "all_mfccs = []\n",
    "each_audio_length = []\n",
    "for i in range(len(diarized_segments)):\n",
    "    segment = diarized_segments[i]\n",
    "    start = np.round(segment[\"start\"] * sr).astype(np.int64)\n",
    "    end   = np.round(segment[\"end\"] * sr).astype(np.int64)\n",
    "    each_audio = audio[start:end]\n",
    "    mfccs = librosa.feature.mfcc(y=each_audio, sr=sr)\n",
    "    each_audio_length.append(mfccs.shape[-1])\n",
    "    all_mfccs.append(mfccs)\n",
    "all_mfccs = np.concatenate(all_mfccs, axis=-1)\n",
    "\n",
    "all_mfccs.shape, each_audio_length"
   ]
  },
  {
   "cell_type": "code",
   "execution_count": 51,
   "id": "eb1c2c96",
   "metadata": {},
   "outputs": [
    {
     "name": "stdout",
     "output_type": "stream",
     "text": [
      "[0 0 0 ... 0 0 0]\n",
      "0\n",
      "Time Segment 0: Speaker [0 0 0 ... 2 2 1]\n",
      "1286\n",
      "Time Segment 1: Speaker [1 1 1 1 1 1 1 1 1 1 0 0 1 1 1 1 1 1 1 1 2 2 2 2 2 2 2 2 2 2 2 1 1 1 1 1 1\n",
      " 1 1 1 1 1 1 1 1 1 2 2 2 2 2 2 2 2 2 0 0 0 0 2 2 2 2 2 2 2 2 2 2 2 2 0 0 0\n",
      " 0 2 2 2 2 2 2 2 2 2 2 2 2 2 2 2 2 2 2 2 2 2 1 1 1 1 1 1 2 2 2 2 2 0 2 2 2\n",
      " 2 2 1 1 1 1 1 1 1 1 1 1 1 1 2 2 2 2 2 1 1 1 1 1 2 2 1 1 2 2 2 2 2 2 2 2 2\n",
      " 2 2 0 0 0 0 0 0 0 0 0 0 0 0 0 0 0 0 0 0 0 0 0 0 0 0 0 0 0 0 0 0 0 0 0 0 0\n",
      " 2 2 2 1 1]\n",
      "1476\n",
      "Time Segment 2: Speaker [1 1 1 1 1 1 1 2 2 2 2 2 2 0 0 0 0 0 0 0 1 1 1 1 1 1 1 1 1 1 1 1 1 1 1 0 2\n",
      " 2 1 1 1 2 2 2 2 2 2 2 2 2 2 2 0 0 0 0 0 0 0 0 0 0 0 0 0 0 0 0 0 0 0 0 0 0\n",
      " 0 0 0 0 0 0 0 0 0 0 0 0 0 2 2 2 2 2 2 2 1 1 1 1 1 1 1 1 1 2 2 2 2 2 2 2 2\n",
      " 2 1 1 2 2 2 2 2 2 2 0 0 0 0 0 0 0 0 0 0 0 0 0 0 0 0 0 0 0 0 0 0 0 0 0 0 0\n",
      " 0 0 0 0 0 0 0 0 0 0 0 0 0 0 0 0 0 0 0 0 0 0 0 2 2 2 2 2 2 1 1 1 1 1 1 1 2\n",
      " 2 2 2 2 2 2 2 2 2 2 2 2 2 2 0 0 0 0 0 0 0 0 0 0 0 0 0 0 0 0 0 0 0 0 0 0 0\n",
      " 0 0 0 0 0 0 0 0 0 0 0 0 0 0 0 0 0 0 0 0 0 0 0 0 0 2 2 2 2 2 2 2 2 2 2 2 2\n",
      " 2 2 2 2 2 2 2 2 2 2 2 2 2 2 2 2 2 2 2 2 2 2 2 2 2 2 2 2 0 0 0 0 0 0 0 0 0\n",
      " 0 0 0 0 0 0 0 0 0 0 0 0 0 0 0 0 0 0 0 1 1 1 1 1 1 1 1 1 1 1 2 2 2 2 2 2 2\n",
      " 2 2 2 2 2 0 0 2 2 2 2 2 2 2 2 2 2 2 2 2 2 2 2 2 2 2 2 2 2 0 0 0 0 0 0 0 0\n",
      " 0 0 0 0 0 0 0 0 0 0 0 0 0 0 0 0 0 0 0 0 0 0 0 0 0 0 0 0 0 0 0 0 0 0 0 0 0\n",
      " 0 0 0 0 0 0 0 0 0 0 0 0 0 0 0 0 0 0 0 0 0 0 0 0 0 0 0 0 0 0 0 0 0 0 0 0 0\n",
      " 0 0 0 0 0 0 0 0 0 0 0 0 0 0 0 0 0 0 0 0 0 0 0 0 0 0 0 0 0 0 0 0 0 0 0 0 0\n",
      " 0 0 0 0 2 2 1 1 1 1 1 1 2 2]\n",
      "1971\n",
      "Time Segment 3: Speaker [2 2 2 2 2 2 2 2 2 1 1 1 1 1 1 2 2 2 2 2 2 2 2 1 1 1 1 1 1 1 1 1 1 1 1 1 2\n",
      " 2 2 2 2 2 2 1 1 2 2 2 2 2 2 2 2 2 2 2 2 2 1 1 1 2 2 2 2 2 2 2 1 1 1 1 2 2\n",
      " 2 2 1 1 1 1 1 1 2 2 0 0 0 0 0 0 1 0 1 1 1 1 1 1 1 1 1 1 1 1 1 1 1 2 2 2 2\n",
      " 2 2 2 2 2 2 2 2 2 1 1 1 1 1 1 1 1 1 1 1 1 1 1 1 1 1 1 2 2 2 1 1 1 1 1 1 0\n",
      " 0 2 2 2 2 2 2 2 1 1 1 1 1 1 1 1 1 1 2 2 2 2 2 1 1 1 1 1 1 1 1 2 2 2 2 2 2\n",
      " 2 2 0 0 0 0 0 0 0 0 0 2 2 2 0 0 0 0 0 0 0 0 0 0 0 0 0 0 0 0 0 0 0 0 0 0 0\n",
      " 0 0 0 0 0 0 0 0 0 0 0 0 0 0 0 0 0 0 0 0 0 0 0 0 0 0 0 0 0 0 0 0 0 0 0 0 0\n",
      " 0 0 0 0 0 0 0 0 0 0 0 0 0 0 0 0 0 0 0 0 0 0 0 0 0 0 0 0 0 2 2 2 2 2 2 2]\n",
      "2266\n",
      "Time Segment 4: Speaker [2 2 2 2 2 2 2 2 2 2 2 2 2 2 2 2 2 2 2 2 2 2 2 2 2 2 2 2 2 1 1 1 1 1 2 2 2\n",
      " 2 2 1 1 1 1 1 2 1 2 2 1 1 1 1 1 1 1 1 1 1 1 1 2 2 2 2 2 2 2 2 2 2 2 2 2 2\n",
      " 2 2 2 2 2 2 1 1 2 2 2 2 2 0 0 2 2 2 2 1 1 1 1 1 2 2 2 2 2 2 2 2 2 2 2 2 2\n",
      " 2 2 2 2 2 2 2 2 2 2 2 2 2 2 2 1 1 1 1 1 1 1 1 1 1 1 1 1 1 1 1 1 1 2 2 2 0\n",
      " 1 0 0 0 0 0 0 0 0 0 0 0 0 0 0 0 0 0 0 0 0 0 0 0 0 0 0 0 0 0 0 0 0 0 0 0 0\n",
      " 0 0 0 0 0 0 0 0 0 0 0 0 0 0 0 0 0 0 0 0 0 0 0 0 0 0 0 0 0 0 0 0 0 0 0 0 0\n",
      " 0 0 0 0 0 0 0 0 0 0 0 0 0 0 0 0 0 0 0 0 0 0 0 0 0 0 0 0 0 0 0 0 0 0 0 0 0\n",
      " 0 0 0 0 0 0 0 0 0 0 0 0 0 0 0 1 1 1 1 1 1 1 1 1 2 2]\n",
      "2551\n",
      "Time Segment 5: Speaker [2 2 2 2 2 2 2 2 2 2 2 2 2 2 2 2 2 2 2 1 1 1 1 1 1 1 2 2 2 2 2 2 2 2 2 2 2\n",
      " 1 1 1 1 1 1 1 1 1 1 1 1 1 2 2 1 1 1 1 1 1 2 2 2 2 2 0 2 2 2 2 2 2 2 2 2 2\n",
      " 2 2 2 2 2 2 2 2 2 2 2 2 2 2 2 2 2 2 0 0 0 0 0 0 0 0 0 0 0 0 0 0 0 0 0 0 0\n",
      " 0 0 0 0 0 0 0 0 0 0 0 0 0 0 0 0 0 0 0 0 0 0 0 0 0 0 0 0 0 0 0 0 0 0 0 0 0\n",
      " 0 0 0 0 0 0 0 0 0 0 0 0 0 0 0 0 0 0 0 0 0 0 0 0 0 0 0 0 0 0 0 0 0 0 0 0 0\n",
      " 0 0 0 0 0 0 0 2 2 2 2 2 1 1 1]\n",
      "2751\n",
      "Time Segment 6: Speaker [1 1 1 1 1 1 2 2 2 2 2 2 2 2 2 2 2 2 2 2 1 1 1 1 1 1 1 1 1 1 1 1 1 1 2 2 2\n",
      " 2 2 2 2 2 2 2 2 2 2 2 2 2 2 2 2 2 2 2 2 2 2 2 2 2 2 2 2 2 2 2 2 2 2 2 2 2\n",
      " 0 0 0 0 2 1 1 1 1 1 1 1 1 1 1 1 1 1 1 2 2 2 2 2 2 0 0 0 0 0 0 2 2 2 2 2 1\n",
      " 2 2 1 2 2 2 2 2 2 2 2 2 2 0 0 0 0 0 0 0 0 0 0 0 0 0 0 0 0 0 0 0 0 0 0 0 0\n",
      " 0 0 0 0 0 0 0 0 0 0 0 0 0 2 2 2 2 2]\n",
      "2917\n",
      "Time Segment 7: Speaker [2 2 2 2 2 2 2 2 1 1 1 1 1 2 2 2 2 2 2 2 2 2 2 2 2 2 2 2 2 2 2 2 2 2 2 1 1\n",
      " 2 2 0 0 0 2 2 2 2 2 2 2 2 2 2 2 2 2 2 2 2 2 2 2 2 2 2 2 0 0 1 1 2 2 2 2 2\n",
      " 2 2 2 2 2 2 2 2 1 1 1 1 1 1 1 1 1 1 1 2 2 2 2 2 2 2 2 0 0 0 0 2 2 2 2 2 2\n",
      " 1 1 1 2 2 2 2 1 1 1 1 1 1 1 1 0 0 0 0 0 0 0 0 0 0 0 0 0 0 0 0 0 0 0 0 0 0\n",
      " 0 0 0 0 0 0 0 0 0 0 0 0 0 0 0 0 0 0 0 0 0 0 0 0 0 0 0 0 0 0 0 0 0 0 0 0 0\n",
      " 0 0 0 0 0 0 0 0 0 0 0 0 0 0 0 0 0 0 0 0 0 0 0 0 0 0 0 0 0 0 0 0 0 0 0 0 0\n",
      " 0 0 2 2 1 1]\n",
      "3145\n",
      "Time Segment 8: Speaker [1 1 1 1 1 1 1 1 1 1 1 1 1 0 1 1 1 1 1 1 1 1 1 1 1 1 1 1 1 1 1 1 1 2 2 2 2\n",
      " 2 2 2 2 2 2 2 2 2 2 2 2 2 2 2 2 2 1 1 1 1 1 1 1 2 2 2 1 1 1 1 1 1 1 1 1 1\n",
      " 2 2 2 1 1 1 1 1 1 1 1 1 1 1 1 1 0 0 0 0 0 0 0 0 0 0 0 0 0 0 0 0 0 0 0 0 0\n",
      " 0 0 0 0 0 0 0 0 0 0 0 0 0 0 0 0 0 0 0 0 0 0 0 0 0 0 0 0 0 0 0 0 0 0 0 0 0\n",
      " 0 0 0 0 0 0 0 0 0 0 0 0 0 0 0 0 0 0 0 0 0 0 1 1 1 2 2 1 1 1 2 2 2 2 2 2 2\n",
      " 2 2]\n",
      "3332\n",
      "Time Segment 9: Speaker [2 2 2 2 2 2 2 2 2 2 2 2 2 2 2 2 2 2 2 2 2 2 2 2 2 2 2 2 2 2 0 0 2 2 2 2 1\n",
      " 1 1 1 1 1 2 2 2 2 2 2 2 2 2 2 2 2 2 2 2 2 2 2 2 2 2 2 2 2 2 2 2 2 2 2 2 2\n",
      " 2 2 2 2 2 2 2 2 2 2 2 1 1 1 1 1 1 1 1 1 1 1 2 2 2 2 0 1 1 2 2 0 0 0 0 0 0\n",
      " 0 0 0 0 0 0 0 0 0 0 0 0 0 0 0 0 0 0 0 0 0 0 0 0 0 0 0 2 2 2 2 2 1 1 1 1 1\n",
      " 1 1 1 1]\n",
      "3484\n",
      "Time Segment 10: Speaker [2 2 2 2 2 2 2 2 2 2 2 2 2 2 2 2 2 2 2 2 2 2 2 2 2 2 2 2 2 1 1 1 1 1 1 1 1\n",
      " 2 2 2 2 2 2 2 2 2 2 2 2 2 2 2 2 2 2 2 2 2 2 2 2 2 2 2 2 2 2 2 2 2 2 2 2 1\n",
      " 1 1 1 1 1 1 1 1 2 2 2 2 2 2 2 1 1 1 1 1 1 1 1 1 1 1 1 1 2 2 2 2 2 2 2 2 2\n",
      " 2 2 2 2 2 2 2 2 0 0 0 0 0 0 0 0 0 0 0 0 0 0 0 0 0 0 0 0 0 0 0 0 0 0 0 0 0\n",
      " 0 0 0 0 0 0 0 0 0 0 0 0 0 0 0 0 0 0 0 0 0 0 0 0 0 0 0 0 0 0 0 0 0 0 0 0 0\n",
      " 0 0 0 0 0 0 0 0 0 0 0 0 0 0 0 0 0 0 0 0 0 0 0 0 0 0 0 0 0 2 2 2 2]\n",
      "3702\n",
      "Time Segment 11: Speaker [2 2 2 2 2 2 2 2 2 2 2 2 2 2 2 2 2 2 1 1 1 1 1 1 1 1 1 1 1 1 1 2 2 1 1 1 1\n",
      " 2 2 2 2 2 2 2 2 2 2 2 2 2 2 2 2 2 1 2 2 2 2 2 1 2 2 1 2 2 0 2 2 2 2 2 2 2\n",
      " 1 1 1 2 2 2 2 2 2 2 2 2 2 2 2 2 2 2 2 2 2 2 2 2 2 2 2 2 2 2 2 2 2 2 1 2 0\n",
      " 0 0 0 0 0 0 0 0 0 0 0 0 0 0 0 0 0 0 0 0 0 0 0 0 0 0 0 0 0 0 0]\n",
      "3844\n",
      "Time Segment 12: Speaker [0 0 0 0 0 0 0 0 0 0 0 0 0 0 0 0 0 0 0 0 0 0 0 2 2 2 1 1 1 1 1 1 1 1 1 1 1\n",
      " 1 1 1 2 2 2 1 2 2 2 2 2 2 2 2 2 2 2 2 2 2 2 2 2 2 2 2 2 2 2 2 1 1 1 1 1 1\n",
      " 1 1 1 1 2 2 0 2 2 1 1 1 1 1 1 1 1 1 1 1 2 2 2 2 2 2 2 2 1 1 1 1 1 1 1 1 1\n",
      " 1 1 1 2 2 2 2 2 2 2 2 2 2 2 2 2 2 2 2 2 2 0 0 0 0 0 0 0 0 0 0 0 0 0 0 0 0\n",
      " 0 0 0 0 0 0 0 0 0 0 0 0 0 0 0 0 0 0 0 0 0 0 0 0 0 0 0 0 0 0 0 0]\n",
      "4024\n",
      "Time Segment 13: Speaker [0 0 0 0 0 0 0 0 0 0 0 0 0 0 0 0 0 0 0 0 0 0 0 0 0 0 0 0 0 0 0 0 0 0 0 2 2\n",
      " 2 2 2 1 1 1 1 1 1 1 1 1 1 1 2 2 2 2 2 2 2 1 1 2 2 2 2 2 2 2 2 2 0 0 0 0 0\n",
      " 0 0 1 1 1 1 1 1 1 1 2 2 2 2 2 2 2 2 2 2 2 2 2 2 2 2 2 2 2 2 2 2 2 2 2 2 2\n",
      " 2 2 2 2 2 2 2 2 0 0 0 0 0 0 0 0 0 0 0 0 0 0 0 0 0 0 0 0 0 0 0 0 0 0 0 0 0\n",
      " 0 0 0 0 0 0 0 0 0 0 0 0 0 0 0 0 0 0]\n",
      "4190\n",
      "Time Segment 14: Speaker [0 0 0 1 1 1 1 1 1 1 1 1 1 1 1 1 2 2 2 2 2 1 1 1 1 1 1 1 1 1 2 2 2 2 2 2 2\n",
      " 0 1 2 2 2 1 1 1 1 1 1 1 1 1 2 2 2 2 2 2 1 1 1 1 1 1 1 1 1 1 1 1 1 1 2 2 2\n",
      " 2 2 2 2 2 2 2 2 2 2 2 2 2 2 2 2 2 2 2 2 1 1 1 1 1 1 1 1 2 2 1 2 2 2 2 2 2\n",
      " 2 2 2 2 2 2 2 0 1 0 0 0 0 0 0 0 0 0 0 0 0 0 0 0 0 0 0 0 0 0 0 0 0 0 0 0 0\n",
      " 0 0 0 0 2 2 2 2 2 2 2 2 2 2 2 2 2 2 2 2 2 2 2 2 2 2 2 2 2 2 2 2 2 2 2 0 1\n",
      " 2 2 0 0 0 0 0 0 0 0 0 0 0 0 0 0 0 0 0 0 0 0 0 0 0 1 1 1 1 1 1 1 1 2 2 2 2\n",
      " 2 2 2 2 2 2 2 2 1 1 1 1 1 1 1 1 1 1 2 2 2 2 2 2 2 2 2 2 2 2 1 1 1 1 1 1 2\n",
      " 2 2 2 2 2 2 2 2 2 2 2 2 2 2 2 2 2 2 2 2 2 2 2 2 2 2 2 2 2 2 2 2 2 2 2 2 2\n",
      " 2 2 2 2 2 2 2 2 2 2 2 2 2 2 2 2 2 2 0 0 0 0 0 0 0 0 0 0 0 0 0 0 0 0 0 0 0\n",
      " 0 0 0 0 0 0 0 0 0 2 2 2 2 2 2 1 1 1 1 1 1 1 1 1 1 1 1 1 2 2 2 2 2 2 2 2 2\n",
      " 2 2 2 2 2 2 2 2 2 0 0 0 0 0 0 0 0 0 0 0 0 0 0 0 0 0 0 0 0 0 0 0 0 0 0 0 0\n",
      " 0 0 0 0 0 0 0 0 0 0 0 0 0 0 0 0 0 0 0 0 0 0 0 0 0 0 0 0 0 0 0 0 0 0 0 0 0\n",
      " 0 0 0 0 0 0 0 0 0 0 0 0 0 0 0 0 0 0 0 0 0 0 0 0 0 0 0 0 0 0 0 0 0 0 0 0 1\n",
      " 1 1]\n",
      "4673\n",
      "Time Segment 15: Speaker [1 1 1 1 2 2 2 2 2 2 2 2 2 2 2 2 2 2 2 2 2 2 2 2 2 2 2 2 2 2 2 2 1 1 1 1 1\n",
      " 1 1 1 1 1 1 1 1 1 1 1 1 1 2 2 2 2 2 2 2 2 2 2 2 2 2 2 2 2 2 2 2 2 2 2 2 2\n",
      " 2 2 2 2 1 1 1 1 1 1 1 1 2 2 2 2 2 2 2 2 1 1 1 1 1 1 1 1 1 1 2 2 2 0 1 1 1\n",
      " 1 1 1 1 1 1 1 1 1 2 2 2 1 1 2 2 2 2 2 2 2 2 2 2 2 2 2 2 2 2 2 2 2 2 2 2 2\n",
      " 2 2 2 2 2 2 2 2 2 2 2 2 2 2 0 0 0 2 2 2 2 1 1 1 1 1 1 1 1 1 1 1 1 1 1 1 1\n",
      " 2 2 2 2 2 2 2 2 2 2 2 2 2 2 2 2 0 0 0 0 0 0 0 0 0 0 0 0 0 0 0 0 0 0 0 0 0\n",
      " 0 0]\n",
      "4897\n",
      "Time Segment 16: Speaker [0 0 0 0 0 0 2 2 2 2 2 2 2 1 1 1 1 1 1 1 1 1 1 1 1 1 1 2 2 2 0 1 0 0 0 0 0\n",
      " 0 0 0 0 0 0 0 0 1 1 1 1 1 1 1 1 1 1 1 2 2 2 2 2 2 2 2 2 1 1 1 1 1 1 1 1 1\n",
      " 1 1 1 1 2 2 1 1 1 1 1 1 0 0 0 0 0 0 0 0 0 0 0 0 0 0 0 0 0 0 0 0 0 0 0 0 0\n",
      " 0 0 0 0 0 0 0 0 0 0 0 0 0 0 0 0 0 0 0 0]\n",
      "5028\n",
      "Time Segment 17: Speaker [1 1 1 1 1 1 1 1 2 2 2 2 2 2 2 2 2 2 2 2 2 2 2 2 2 2 2 2 2 2 2 2 2 2 2 2 1\n",
      " 1 1 1 1 2 2 2 2 2 2 2 2 2 2 2 2 2 2 2 2 2 2 2 2 2 2 2 2 2 1 1 1 1 1 1 1 1\n",
      " 1 1 1 1 1 1 1 1 2 2 2 2 2 2 2 2 2 2 2 2 2 2 1 1 1 1 1 1 1 2 2 2 2 2 2 2 2\n",
      " 2 1 1 1 1 1 1 1 1 1 1 1 1 2 2 2 2 2 2 2 1 1 1 1 1 1 1 1 1 2 2 2 2 2 2 2 2\n",
      " 2 2 0 0 0 0 0 0 0 0 0 0 0 0 0 0 0 0 0 0 0 0 0 0 0 0 0 0 0 0 0 0 0 0 0 0 0\n",
      " 0 0 0 0 0 0 0 0 0 0 0 0 0 0 0 0 0 0 0 0 0 0 0 0 0 0 0 0 0 0 0 0 0 0 0 0]\n",
      "5249\n",
      "Time Segment 18: Speaker [0 0 0 2 2 2 2 2 2 1 1 1 1 1 1 1 2 2 2 2 2 2 2 2 2 2 2 2 2 2 2 2 2 2 2 2 1\n",
      " 1 1 1 1 1 1 1 1 2 2 2 2 2 2 1 1 1 1 1 1 1 1 1 1 1 1 1 1 1 1 1 1 1 1 1 1 1\n",
      " 1 1 1 1 1 2 2 2 2 2 2 2 2 2 1 1 1 1 1 1 1 1 1 1 1 1 1 1 1 1 1 1 1 1 1 1 1\n",
      " 1 1 1 1 1 1 2 2 1 1 1 1 1 1 1 1 1 1 1 1 1 2 2 2 2 2 2 0 0 0 0 0 0 0 0 0 0\n",
      " 0 0 2 2 2 2 0 0 0 0 0 0 0 0 0 0 0 0 0 0 0 0 0 0 0 0 0 0 0 0 0 0 0 0 0 0 0\n",
      " 0 0 0 0 0 0 0 0 0 0 0 0 0 0 0 0 0 0 0 0 0 0 0 0 0 0 0 0 0]\n",
      "5463\n",
      "Time Segment 19: Speaker [0 0 0 0 2 2 2 2 1 1 1 1 1 1 1 2 2 2 2 2 2 2 2 2 2 2 1 1 1 1 1 1 1 1 1 1 1\n",
      " 1 2 2 2 2 2 2 2 1 1 1 1 2 2 2 1 1 1 1 1 1 1 1 2 2 2 2 2 2 1 2 2 2 2 2 0 0\n",
      " 0 2 2 1 1 1 1 1 1 1 1 1 1 2 2 2 2 2 2 2 2 2 2 2 2 2 0 2 2 2 2 2 2 2 2 2 2\n",
      " 2 2 2 0 0 0 0 0 1 1 1 1 1 1 1 1 1 1 0 1 1 1 1 1 1 1 1 1 1 1 1 0 0 0 0 0 0\n",
      " 0 0 0 0 0 0 0 0 2 1 1 2 2 2 2 2 2 2 2 2 2 0 0 1 1 1 1 1 1 1 1 1 1 2 2 2 2\n",
      " 2 2 2 2 2 2 1 1 1 1 1 1 1 1 2 2 2 2 2 2 2 2 1 1 1 2 2 2 2 2 2 1 1 1 1 1 1\n",
      " 1 2 2 2 0 0 0 2 2 2 2 2 2 2 2 2 2 2 2 2 2 2 2 1 1 2 2 2 2 2 0 0 2 2 2 2 2\n",
      " 2 2 2 1 1 1 1 1 1 2 2 2 2 2 2 2 2 0 0 0 0 0 0 0 0 0 0 0 0 0 0 0 0 0 0 0 0\n",
      " 0 0 0 0 0 0 0 0 0 0 0 0 0 0 0 0 0 0 0 0 0 0 0 0 0 0 0 0 0 0 0 0 0 0 0 0 0\n",
      " 0 0 0 0 0 0 0 0 0 0 0 0 0 0 0 0 0 0 0 0 0 0]\n",
      "5818\n",
      "Time Segment 20: Speaker [0 0 2 2 2 2 2 2 2 2 2 2 2 1 1 1 1 1 1 1 1 1 1 1 0 0 0 2 2 2 2 1 1 1 1 1 1\n",
      " 1 1 1 1 1 1 1 1 1 1 2 2 2 2 2 2 2 2 2 2 2 2 2 2 1 1 1 1 2 2 2 2 2 2 2 2 2\n",
      " 2 2 2 2 2 2 2 2 2 1 1 2 0 0 0 2 2 2 2 1 1 1 1 1 1 1 1 1 1 1 1 1 1 1 1 1 1\n",
      " 1 1 1 1 1 2 2 2 2 2 2 1 1 1 1 1 2 2 2 2 2 2 2 2 2 2 2 2 2 2 0 0 0 0 0 0 0\n",
      " 0 0 0 2 2 2 0 0 0 0 0 0 0 0 0 0 0 0 0 0 0 0 0 0 0 0 0 0 0 0 0 0 0 0 0 0 0\n",
      " 0 0 0 0 0 0 0 0 0 0 0 0 0 0 0 0 0 0 0 0 0 0 0 0 0 0 0 0 0 0 0 0 0 0 0 0 0\n",
      " 0 0 0 0 0 0 0 0 0 0 0 0 0]\n",
      "6053\n",
      "Time Segment 21: Speaker [0 0 1 1 1 1 1 2 2 2 2 0 0 0 0 1 1 1 1 2 2 2 2 1 1 1 1 1 1 2 2 2 2 2 2 2 2\n",
      " 2 2 2 2 2 2 2 2 1 1 1 1 1 1 1 1 1 1 1 1 1 1 1 0 0 0 0 0 0 0 0 0 0 0 0 0 0\n",
      " 0 0 0 0 0 0 0 0 0 0 0 0 0 0 0 0 0 0 0 0 0 0 0 0 0 0]\n",
      "6153\n",
      "Time Segment 22: Speaker [0 0 1 2 2 2 2 2 2 2 1 1 1 1 1 1 1 1 1 1 1 1 1 1 1 1 1 1 1 2 2 2 2 2 2 2 2\n",
      " 2 2 2 2 2 2 2 0 1 1 1 1 1 1 1 1 1 1 1 1 2 2 2 2 2 2 2 2 2 2 2 2 2 2 2 2 2\n",
      " 2 0 2 2 2 2 2 2 2 2 2 2 2 2 2 2 2 1 1 1 1 1 1 1 1 1 2 1 0 1 0 2 1 1 1 1 1\n",
      " 1 1 1 1 1 1 1 1 1 1 2 2 2 2 2 2 2 2 2 2 2 2 2 2 2 2 2 2 2 2 2 1 1 1 1 1 1\n",
      " 2 2 2 2 2 0 0 0 2 2 2 1 1 1 1 1 1 1 1 2 2 2 2 2 2 2 0 0 2 2 2 2 2 2 2 2 2\n",
      " 2 2 2 2 2 2 1 1 1 1 1 1 1 1 1 1 1 2 2 2 2 2 2 2 2 2 2 2 0 2 2 2 2 2 2 2 2\n",
      " 2 2 2 1 1 1 1 1 1 1 1 1 1 1 1 2 2 2 2 2 2 0 0 0 0 0 0 0 0 0 0 0 0 0 0 0 0\n",
      " 0 0 0 0 0 0 0 0 0 0 0 0 0 0 0 0 0 0 0 0 0 0 0 0 0 0 0 0 0 0 0 0 0 0 0 0 0\n",
      " 0 0 0 0 0 0 0 0]\n",
      "6457\n",
      "Time Segment 23: Speaker [0 0 2 2 2 2 2 2 2 2 2 2 2 2 2 2 2 2 2 2 2 2 2 2 2 2 2 2 2 2 2 2 2 2 2 2 2\n",
      " 2 2 2 2 2 2 2 2 2 2 2 2 2 2 2 2 2 2 2 2 2 2 2 2 1 1 1 1 1 1 1 0 0 0 0 0 0\n",
      " 1 1 1 1 1 1 1 1 1 1 1 1 1 1 1 1 1 1 1 1 1 1 1 2 2 2 2 2 0 0 2 2 2 2 2 2 2\n",
      " 2 2 2 2 1 0 1 0 0 0 0 0 0 0 0 0 0 0 0 0 0 0 0 0 0 0 0 0 0 0 0 0 0 0 0 0 0\n",
      " 0 0 0 0 0 0 0 0 0 0 0 0 0 0 0 0 0 0]\n",
      "6623\n",
      "Time Segment 24: Speaker [0 0 0 2 2 2 1 2 2 1 1 1 1 1 1 1 1 1 1 2 2 2 2 2 2 2 2 2 2 2 2 1 1 1 1 1 1\n",
      " 1 1 1 1 1 1 1 1 1 1 1 1 1 1 1 1 1 1 1 1 2 2 2 0 0 0 0 0 0 0 0 0 0 0 0 0 0\n",
      " 0 0 0 0 0 0]\n",
      "6703\n",
      "Time Segment 25: Speaker [0 2 2 2 2 2 2 2 2 2 1 1 1 1 1 1 1 1 1 1 1 1 1 1 1 1 1 1 1 1 0 0 0 0 0 0 0\n",
      " 0 0 0 0 0 0 0 0 0 0 0 0 0 0 0 0 0 0 0 0 0 0 0 0 0 0 0 0 0 0 0 0 0 0 0 0 0\n",
      " 0 0]\n",
      "6779\n",
      "Time Segment 26: Speaker [0 0 0 0 2 2 1 1 1 1 1 1 1 1 1 1 1 1 1 1 1 1 2 2 2 2 2 2 2 2 2 2 2 2 2 2 2\n",
      " 2 2 2 2 2 2 2 2 2 2 2 2 2 2 1 1 2 2 2 2 2 2 2 2 2 2 2 2 2 2 2 2 0 0 0 0 0\n",
      " 0 0 0 0 0 0 0 0 0 0 0 0 0 0 0 0 0 0 0 0 0 0 0 0 0 0 0 0 0 0 0 0 0 0 0 0 0\n",
      " 0 0 0 0 0 0 0 0 0 0 0 0 0 0 0 0 0 0 0 0 0 0 0 0 0 0 0 0 0 0 0 0 0 0 0 0 0\n",
      " 0 0 0 0 0 0 0 0 0 0 0]\n",
      "6938\n",
      "Time Segment 27: Speaker [0 0 0 0 0 2 2 2 1 1 1 2 2 2 2 2 2 2 2 2 2 2 1 1 1 1 2 2 2 2 2 2 2 2 2 1 1\n",
      " 1 1 1 1 1 1 1 1 1 1 1 1 2 2 2 2 2 2 2 2 2 2 2 2 2 2 2 2 2 2 2 2 2 2 2 2 2\n",
      " 2 2 2 2 2 2 2 2 1 1 1 2 2 2 2 2 2 2 2 2 2 2 2 2 2 2 2 2 2 2 1 1 1 1 1 1 1\n",
      " 1 1 1 1 1 2 0 0 0 0 0 0 2 2 2 2 2 1 2 2 2 2 2 2 1 1 1 1 1 1 1 1 1 2 1 1 2\n",
      " 2 2 2 2 2 2 2 2 2 2 1 1 1 1 1 1 1 1 1 2 2 1 1 1 1 1 1 1 1 1 1 1 1 1 1 1 1\n",
      " 0 0 0 0 0 0 0 0 0 0 0 0 0 0 0 0 0 0 0 0 0 0 0 0 0 0 0 0 0 0 0 0 0 0 0 0 0\n",
      " 0 0 0 0 0 0 0 0 0 0 0 0 0 0 0 0 0 0 0 0 0 0 0 0 0 0 0 0 0 0 0 0 0 0 0 0 0]\n",
      "7197\n",
      "Time Segment 28: Speaker [0 2 2 2 2 2 2 2 1 1 1 1 1 1 1 1 1 2 2 2 2 2 2 2 2 2 2 2 2 2 2 2 2 2 2 2 0\n",
      " 0 0 0 0 0 0 0 0 2 2 2 2 2 2 2 2 2 2 2 2 2 2 2 2 2 2 2 2 2 2 2 2 2 2 2 2 2\n",
      " 2 2 2 2 2 0 0 0 0 0 0 0 0 0 0 0 0 0 0 0 0 0 0 0 0 0 0 0 0 0 0 0 0 0 0 0 0\n",
      " 0 0 0 0 0 0 0 0 0 0 0 0 0 0 0 0 0 0 0 0 0 0 0 0 0 0 0]\n",
      "7335\n",
      "Time Segment 29: Speaker [0 2 2 2 1 1 1 1 1 1 1 1 2 2 2 2 2 2 2 1 1 1 1 1 1 1 1 1 1 1 1 1 2 2 2 2 2\n",
      " 2 1 1 1 1 1 1 1 1 1 1 1 1 1 1 1 2 2 2 2 2 2 2 2 2 2 2 2 2 0 0 0 1 1 1 1 1\n",
      " 1 2 0 0 0 0 0 2 2 1 1 0 1 1 1 1 1 1 1 2 2 2 2 2 2 2 2 2 2 2 2 2 2 1 2 2 1\n",
      " 1 1 1 2 2 2 2 2 2 2 2 2 2 2 2 2 2 2 2 2 2 2 2 2 2 2 1 2 2 2 2 2 2 2 2 2 2\n",
      " 2 2 2 2 2 2 2 2 2 2 2 2 2 2 2 2 2 1 1 2 2 2 2 2 2 2 2 2 2 2 2 2 2 2 2 2 2\n",
      " 2 2 2 2 1 1 1 1 1 1 1 1 1 1 1 2 2 2 2 2 2 2 2 2 2 2 2 2 2 2 2 2 2 2 2 2 2\n",
      " 2 0 0 0 0 0 0 0 0 0 0 0 0 0 0 0 0 0 0 0 0 0 0 0 0 0 0 0 0 0 0 0 0 0 0 0 0\n",
      " 0 0 0 0 0 0 0 0 0 0 0 0 0 0 0 0 0 0 0 0 0 0 0 0 0 0 0 0 0 0 0 0 0 0 0 0 0\n",
      " 0 0 0 0 0 0 0 0 0 0 0 0 0 0 0]\n"
     ]
    }
   ],
   "source": [
    "scaler = StandardScaler()\n",
    "mfccs_scaled = scaler.fit_transform(all_mfccs.T)\n",
    "kmeans = KMeans(n_clusters=3)  # Adjust based on the expected number of speakers\n",
    "speaker_labels = kmeans.fit_predict(mfccs_scaled)\n",
    "print(speaker_labels)\n",
    "current_point = 0\n",
    "for i in range(len(each_audio_length)):\n",
    "    print(current_point)\n",
    "    each_labels = speaker_labels[current_point:current_point+each_audio_length[i]]\n",
    "    current_point += each_audio_length[i]\n",
    "    # print(f\"Time Segment {i}: Speaker {np.round(each_labels.mean())}\")\n",
    "    print(f\"Time Segment {i}: Speaker {each_labels}\")\n",
    "# for i, label in enumerate(speaker_labels):\n",
    "#     print(f\"Time Segment {i}: Speaker {label}\")"
   ]
  },
  {
   "cell_type": "code",
   "execution_count": null,
   "id": "fac0bb7f",
   "metadata": {},
   "outputs": [],
   "source": []
  }
 ],
 "metadata": {
  "kernelspec": {
   "display_name": "Python 3 (ipykernel)",
   "language": "python",
   "name": "python3"
  },
  "language_info": {
   "codemirror_mode": {
    "name": "ipython",
    "version": 3
   },
   "file_extension": ".py",
   "mimetype": "text/x-python",
   "name": "python",
   "nbconvert_exporter": "python",
   "pygments_lexer": "ipython3",
   "version": "3.11.4"
  },
  "vscode": {
   "interpreter": {
    "hash": "866ebc8658fecd43b38c1a298d43fff48508ba08fafd7b62b26aa9497a4c41bd"
   }
  }
 },
 "nbformat": 4,
 "nbformat_minor": 5
}
