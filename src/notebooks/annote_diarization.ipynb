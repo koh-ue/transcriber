{
 "cells": [
  {
   "cell_type": "code",
   "execution_count": 55,
   "metadata": {},
   "outputs": [],
   "source": [
    "import yaml\n",
    "import collections\n",
    "import numpy as np\n",
    "import pandas as pd\n",
    "import scipy.stats as stats\n",
    "import plotly.graph_objects as go\n",
    "from matplotlib.pyplot import get_cmap\n",
    "\n",
    "cmap=get_cmap(\"tab10\")"
   ]
  },
  {
   "cell_type": "code",
   "execution_count": 56,
   "metadata": {},
   "outputs": [],
   "source": [
    "with open(\"../../../results/20240131-test/diarization.yaml\", \"r\") as f:\n",
    "    diarization = yaml.safe_load(f)\n",
    "\n",
    "speakers = []\n",
    "for item in diarization:\n",
    "    speakers.append(item[\"speaker\"])"
   ]
  },
  {
   "cell_type": "code",
   "execution_count": 57,
   "metadata": {},
   "outputs": [],
   "source": [
    "with open(\"../../../results/20240131-test/result.yaml\", \"r\") as f:\n",
    "    conversation = yaml.safe_load(f)\n",
    "# conversation"
   ]
  },
  {
   "cell_type": "code",
   "execution_count": 58,
   "metadata": {},
   "outputs": [],
   "source": [
    "timings = np.arange(int(conversation[\"segments\"][-1][\"end\"]))\n",
    "# timings"
   ]
  },
  {
   "cell_type": "code",
   "execution_count": 59,
   "metadata": {},
   "outputs": [],
   "source": [
    "def who_speak(t, diar=diarization):\n",
    "    for item in diar:\n",
    "        if item[\"start\"] < t and t < item[\"end\"]:\n",
    "            return item[\"speaker\"]\n",
    "    return \"none\""
   ]
  },
  {
   "cell_type": "code",
   "execution_count": 60,
   "metadata": {},
   "outputs": [],
   "source": [
    "max_delta = 4\n",
    "_labels = []\n",
    "for _t in timings:\n",
    "    for delta in range(max_delta):\n",
    "        t = _t + delta/max_delta\n",
    "        _labels.append([float(t), who_speak(t)])\n",
    "labels = np.array(_labels)\n",
    "# print(labels)"
   ]
  },
  {
   "cell_type": "code",
   "execution_count": 63,
   "metadata": {},
   "outputs": [],
   "source": [
    "for segment in conversation[\"segments\"]:\n",
    "    _label_of_segment = []\n",
    "    for t in np.arange(int(segment[\"start\"]*max_delta)/max_delta, int(segment[\"end\"]*max_delta)/max_delta, 0.25):\n",
    "        idx = np.where(labels==str(t))[0].astype(np.int64)\n",
    "        if len(labels[idx, -1]):\n",
    "            _label_of_segment.append(labels[idx, -1])\n",
    "    _labels_seg = np.array(_label_of_segment).flatten()\n",
    "    labels_seg = _labels_seg[_labels_seg != \"none\"]\n",
    "    counted = collections.Counter(labels_seg)\n",
    "    segment_label = counted.most_common()[0][0]\n",
    "    segment[\"label\"] = str(segment_label)"
   ]
  },
  {
   "cell_type": "code",
   "execution_count": 66,
   "metadata": {},
   "outputs": [],
   "source": [
    "# conversation"
   ]
  },
  {
   "cell_type": "code",
   "execution_count": 65,
   "metadata": {},
   "outputs": [],
   "source": [
    "with open(\"../../../results/20240131-test/diarized-result.yaml\", \"w\") as f:\n",
    "    yaml.dump(conversation, f, default_flow_style=False, indent=4, allow_unicode=True, sort_keys=False)"
   ]
  },
  {
   "cell_type": "code",
   "execution_count": null,
   "metadata": {},
   "outputs": [],
   "source": []
  }
 ],
 "metadata": {
  "kernelspec": {
   "display_name": "transcriber",
   "language": "python",
   "name": "python3"
  },
  "language_info": {
   "codemirror_mode": {
    "name": "ipython",
    "version": 3
   },
   "file_extension": ".py",
   "mimetype": "text/x-python",
   "name": "python",
   "nbconvert_exporter": "python",
   "pygments_lexer": "ipython3",
   "version": "3.11.4"
  }
 },
 "nbformat": 4,
 "nbformat_minor": 2
}
