{
 "cells": [
  {
   "attachments": {},
   "cell_type": "markdown",
   "id": "ca557d6f-5641-406d-b85a-12ce4aac705c",
   "metadata": {},
   "source": [
    "### Test Whisper"
   ]
  },
  {
   "cell_type": "code",
   "execution_count": 1,
   "id": "7810fe65-ed3c-443c-8ceb-0a9b764a7d2b",
   "metadata": {},
   "outputs": [
    {
     "name": "stderr",
     "output_type": "stream",
     "text": [
      "/home/uehara/.pyenv/versions/anaconda3-2022.10/envs/transcriber/lib/python3.11/site-packages/whisper/timing.py:57: NumbaDeprecationWarning: The 'nopython' keyword argument was not supplied to the 'numba.jit' decorator. The implicit default value for this argument is currently False, but it will be changed to True in Numba 0.59.0. See https://numba.readthedocs.io/en/stable/reference/deprecation.html#deprecation-of-object-mode-fall-back-behaviour-when-using-jit for details.\n",
      "  @numba.jit\n"
     ]
    }
   ],
   "source": [
    "import whisper"
   ]
  },
  {
   "cell_type": "code",
   "execution_count": 2,
   "id": "e7d3f1e9",
   "metadata": {},
   "outputs": [
    {
     "name": "stderr",
     "output_type": "stream",
     "text": [
      "/home/uehara/.pyenv/versions/anaconda3-2022.10/envs/transcriber/lib/python3.11/site-packages/whisper/transcribe.py:114: UserWarning: FP16 is not supported on CPU; using FP32 instead\n",
      "  warnings.warn(\"FP16 is not supported on CPU; using FP32 instead\")\n"
     ]
    }
   ],
   "source": [
    "model = whisper.load_model(\"base\")\n",
    "result = model.transcribe(\"../../../raws/20230515_Yamada.wav\")"
   ]
  },
  {
   "cell_type": "code",
   "execution_count": 5,
   "id": "0d460509",
   "metadata": {},
   "outputs": [],
   "source": [
    "import ffmpeg"
   ]
  },
  {
   "cell_type": "code",
   "execution_count": null,
   "id": "fe5f0a20",
   "metadata": {},
   "outputs": [],
   "source": []
  }
 ],
 "metadata": {
  "kernelspec": {
   "display_name": "Python 3 (ipykernel)",
   "language": "python",
   "name": "python3"
  },
  "language_info": {
   "codemirror_mode": {
    "name": "ipython",
    "version": 3
   },
   "file_extension": ".py",
   "mimetype": "text/x-python",
   "name": "python",
   "nbconvert_exporter": "python",
   "pygments_lexer": "ipython3",
   "version": "3.11.3"
  },
  "vscode": {
   "interpreter": {
    "hash": "866ebc8658fecd43b38c1a298d43fff48508ba08fafd7b62b26aa9497a4c41bd"
   }
  }
 },
 "nbformat": 4,
 "nbformat_minor": 5
}
